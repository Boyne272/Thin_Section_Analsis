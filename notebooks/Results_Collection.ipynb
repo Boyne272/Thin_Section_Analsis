{
  "nbformat": 4,
  "nbformat_minor": 0,
  "metadata": {
    "colab": {
      "name": "Results Collection.ipynb",
      "version": "0.3.2",
      "provenance": [],
      "collapsed_sections": [
        "c3n0brBIjHmk",
        "nGEn5yUAvI4J",
        "-abh8kvxvIxR",
        "iifwCUsuvIpK",
        "9_pC3XvrBwq1",
        "QbkmP91T39IE",
        "URRFBYuA2_yp",
        "gc3GywzGwWrW",
        "fD4nmcMgVHH5",
        "08jC9GOdPVmj",
        "YOPWERfPetZ8",
        "CcliYBEGCSj0",
        "uybrI39GCsCX",
        "PwzOb41-xL0A",
        "az4gNB9YEkVn",
        "eaarGlbwHuJG",
        "1SGjtuk7HqxD",
        "Cl8ESy5QthkP",
        "mAAOsV-RIS5g",
        "kIh1zJoK_FkF"
      ],
      "toc_visible": true
    },
    "kernelspec": {
      "name": "python3",
      "display_name": "Python 3"
    }
  },
  "cells": [
    {
      "cell_type": "markdown",
      "metadata": {
        "id": "VLwb30JFwOJ0",
        "colab_type": "text"
      },
      "source": [
        "# Setup"
      ]
    },
    {
      "cell_type": "markdown",
      "metadata": {
        "id": "-KqZCpqtxn8Q",
        "colab_type": "text"
      },
      "source": [
        "## Github Setup\n",
        "If not already present this clones the repo into google colab so that I may work on it with a bash environment."
      ]
    },
    {
      "cell_type": "code",
      "metadata": {
        "id": "Q9pnfHbSqgXh",
        "colab_type": "code",
        "colab": {}
      },
      "source": [
        "from getpass import getpass\n",
        "import os\n",
        "\n",
        "# if not in a repo clone the desired one\n",
        "if not os.path.isdir(\"/content/repo\"):\n",
        "    \n",
        "    # get username and password\n",
        "    user = \"Boyne272\"\n",
        "    password = getpass('github password')\n",
        "    os.environ['GITHUB_AUTH'] = user + ':' + password\n",
        "    \n",
        "    # clone the repo\n",
        "    !git clone --quiet https://$GITHUB_AUTH@github.com/msc-acse/acse-9-independent-research-project-Boyne272.git repo\n",
        "\n",
        "    # move into the repo\n",
        "    %cd repo\n",
        "    \n",
        "    # swap to the wanted branch\n",
        "    !git checkout Release\n",
        "    !git pull origin Release --quiet\n",
        "\n",
        "# set name and email\n",
        "!git config --global user.name \"Richard Boyne\"\n",
        "!git config --global user.email \"boynerichard@yahoo.co.uk\"\n",
        "\n",
        "# remove the sample data if there\n",
        "if os.path.isdir(\"/content/sample_data\"):\n",
        "    !rm -r /content/sample_data\n",
        "    \n",
        "# show where we are\n",
        "!git show --summary"
      ],
      "execution_count": 0,
      "outputs": []
    },
    {
      "cell_type": "markdown",
      "metadata": {
        "id": "o-6gMErYxuKg",
        "colab_type": "text"
      },
      "source": [
        "## Github Space\n",
        "Use the cells here to run github commands"
      ]
    },
    {
      "cell_type": "code",
      "metadata": {
        "id": "jyawm0CdfcSH",
        "colab_type": "code",
        "colab": {}
      },
      "source": [
        "%cd /content/repo"
      ],
      "execution_count": 0,
      "outputs": []
    },
    {
      "cell_type": "code",
      "metadata": {
        "id": "QRuaaXVGw8Dl",
        "colab_type": "code",
        "colab": {}
      },
      "source": [
        "# !git pull origin master\n",
        "# !git pull origin merging\n",
        "# !git checkout merging\n",
        "# !git pull post_processing\n",
        "# !git branch"
      ],
      "execution_count": 0,
      "outputs": []
    },
    {
      "cell_type": "code",
      "metadata": {
        "id": "sXFmHqnJOT6n",
        "colab_type": "code",
        "colab": {}
      },
      "source": [
        "!rm -r images/Results"
      ],
      "execution_count": 0,
      "outputs": []
    },
    {
      "cell_type": "code",
      "metadata": {
        "id": "yp8EfL-2OmJJ",
        "colab_type": "code",
        "colab": {}
      },
      "source": [
        "!mv images/Dumb_TS_meme.jpg images/meme.jpg "
      ],
      "execution_count": 0,
      "outputs": []
    },
    {
      "cell_type": "code",
      "metadata": {
        "id": "yfLVMd_01wqC",
        "colab_type": "code",
        "colab": {}
      },
      "source": [
        "!git status"
      ],
      "execution_count": 0,
      "outputs": []
    },
    {
      "cell_type": "code",
      "metadata": {
        "id": "tpH7-5YDB9kj",
        "colab_type": "code",
        "colab": {}
      },
      "source": [
        "!git rm -r  images/Results/"
      ],
      "execution_count": 0,
      "outputs": []
    },
    {
      "cell_type": "code",
      "metadata": {
        "colab_type": "code",
        "id": "Uv8eb3i7uiSF",
        "colab": {}
      },
      "source": [
        "!git commit -m \"uploaded results notebook and removed old results images\""
      ],
      "execution_count": 0,
      "outputs": []
    },
    {
      "cell_type": "code",
      "metadata": {
        "id": "VZKTffMBTTHg",
        "colab_type": "code",
        "colab": {}
      },
      "source": [
        ""
      ],
      "execution_count": 0,
      "outputs": []
    },
    {
      "cell_type": "code",
      "metadata": {
        "id": "tGxzEB5Vgzmy",
        "colab_type": "code",
        "colab": {}
      },
      "source": [
        "!git push origin Release"
      ],
      "execution_count": 0,
      "outputs": []
    },
    {
      "cell_type": "markdown",
      "metadata": {
        "id": "c3n0brBIjHmk",
        "colab_type": "text"
      },
      "source": [
        "## Run Tests\n",
        "Run all pytests here, try to do as often as possible"
      ]
    },
    {
      "cell_type": "code",
      "metadata": {
        "id": "fEQEyy8Dijx5",
        "colab_type": "code",
        "colab": {}
      },
      "source": [
        "!pytest # last run 28th Aug"
      ],
      "execution_count": 0,
      "outputs": []
    },
    {
      "cell_type": "markdown",
      "metadata": {
        "id": "ylsOWD1nzoFN",
        "colab_type": "text"
      },
      "source": [
        "## Imports"
      ]
    },
    {
      "cell_type": "code",
      "metadata": {
        "id": "2PMWEZPtPO7m",
        "colab_type": "code",
        "colab": {}
      },
      "source": [
        "# Ipython magic functions\n",
        "%load_ext autoreload\n",
        "%autoreload 2\n",
        "%matplotlib inline"
      ],
      "execution_count": 0,
      "outputs": []
    },
    {
      "cell_type": "code",
      "metadata": {
        "id": "ms8zembfzd0f",
        "colab_type": "code",
        "colab": {}
      },
      "source": [
        "# imports\n",
        "import torch\n",
        "import matplotlib.pyplot as plt\n",
        "import numpy as np\n",
        "import pandas as pd \n",
        "\n",
        "# custom imports\n",
        "%cd /content/repo\n",
        "from TSA.merging import AGNES\n",
        "from TSA.merging import segment_group\n",
        "from TSA.pre_post_processing import Segment_Analyser\n",
        "from TSA.pre_post_processing import Image_processor\n",
        "from TSA.kmeans import SLIC\n",
        "from TSA.kmeans import MSLIC_wrapper"
      ],
      "execution_count": 0,
      "outputs": []
    },
    {
      "cell_type": "code",
      "metadata": {
        "id": "y37ajH-yFJZs",
        "colab_type": "code",
        "colab": {}
      },
      "source": [
        "# set matplotlib preferences - report\n",
        "import matplotlib as mpl\n",
        "mpl.rcdefaults()\n",
        "plt.rc('axes', titlesize=30, labelsize=25)\n",
        "plt.rc('axes.formatter', limits=[-4, 4])\n",
        "plt.rc('ytick', labelsize=12)\n",
        "plt.rc('xtick', labelsize=12)\n",
        "plt.rc('lines', linewidth=2, markersize=7)\n",
        "plt.rc('figure', figsize=(9, 9))\n",
        "# print(plt.rcParams) # all parameters"
      ],
      "execution_count": 0,
      "outputs": []
    },
    {
      "cell_type": "markdown",
      "metadata": {
        "id": "QSMyNmEv-bP-",
        "colab_type": "text"
      },
      "source": [
        "# Results"
      ]
    },
    {
      "cell_type": "markdown",
      "metadata": {
        "id": "R_uI6cMak16S",
        "colab_type": "text"
      },
      "source": [
        "## showing unblured and blured results"
      ]
    },
    {
      "cell_type": "code",
      "metadata": {
        "id": "8rIJxS8zgS2N",
        "colab_type": "code",
        "colab": {}
      },
      "source": [
        "butterfly_IP = Image_processor(path='/content/images/butterfly.tif')\n",
        "butterfly_IP.plot()"
      ],
      "execution_count": 0,
      "outputs": []
    },
    {
      "cell_type": "code",
      "metadata": {
        "id": "Y-JFpEG41a-c",
        "colab_type": "code",
        "colab": {}
      },
      "source": [
        "# blur the image to reduce spotting effect\n",
        "butterfly_IP.reset()\n",
        "blur = butterfly_IP.gauss(sigma=3, key='blur')"
      ],
      "execution_count": 0,
      "outputs": []
    },
    {
      "cell_type": "code",
      "metadata": {
        "id": "JGanBVOCgS97",
        "colab_type": "code",
        "colab": {}
      },
      "source": [
        "# create the SLIC objects iterate it and plot\n",
        "blured_SLIC = SLIC(blur, [25, 25], dist_metric_args=[1.])\n",
        "blured_SLIC.iterate(10)\n",
        "\n",
        "unblured_SLIC = SLIC(butterfly_IP.imgs['original'], [25, 25], dist_metric_args=[1.])\n",
        "unblured_SLIC.iterate(10)"
      ],
      "execution_count": 0,
      "outputs": []
    },
    {
      "cell_type": "code",
      "metadata": {
        "id": "0STC7BsKgS7B",
        "colab_type": "code",
        "colab": {}
      },
      "source": [
        "fig, ax = plt.subplots(figsize=[30, 30])\n",
        "butterfly_IP.plot('original', ax=ax)\n",
        "blured_SLIC.plot(option='edges', ax=ax)\n",
        "plt.savefig(r'blured.tif')\n",
        "\n",
        "fig, ax = plt.subplots(figsize=[30, 30])\n",
        "butterfly_IP.plot('original', ax=ax)\n",
        "unblured_SLIC.plot(option='edges', ax=ax)\n",
        "plt.savefig(r'unblured.tif')"
      ],
      "execution_count": 0,
      "outputs": []
    },
    {
      "cell_type": "markdown",
      "metadata": {
        "id": "nGEn5yUAvI4J",
        "colab_type": "text"
      },
      "source": [
        "## Showing different bin grids"
      ]
    },
    {
      "cell_type": "code",
      "metadata": {
        "id": "TuZEMIvQvI6p",
        "colab_type": "code",
        "colab": {}
      },
      "source": [
        "big_SLIC = SLIC(butterfly_IP.imgs['blur'], [20, 20], dist_metric_args=[1.])\n",
        "big_SLIC.iterate(10)\n",
        "\n",
        "small_SLIC = SLIC(butterfly_IP.imgs['blur'], [40, 40], dist_metric_args=[1.])\n",
        "small_SLIC.iterate(10)"
      ],
      "execution_count": 0,
      "outputs": []
    },
    {
      "cell_type": "code",
      "metadata": {
        "id": "rpDX3Pu7vI0N",
        "colab_type": "code",
        "colab": {}
      },
      "source": [
        "fig, ax = plt.subplots(figsize=[30, 30])\n",
        "butterfly_IP.plot('original', ax=ax)\n",
        "small_SLIC.plot(option='edges', ax=ax)\n",
        "ax.set(title='')\n",
        "ax.axis('off')\n",
        "plt.savefig(r'high_res.tif')\n",
        "\n",
        "fig, ax = plt.subplots(figsize=[30, 30])\n",
        "butterfly_IP.plot('original', ax=ax)\n",
        "big_SLIC.plot(option='edges', ax=ax)\n",
        "ax.set(title='')\n",
        "ax.axis('off')\n",
        "plt.savefig(r'low_res.tif')"
      ],
      "execution_count": 0,
      "outputs": []
    },
    {
      "cell_type": "markdown",
      "metadata": {
        "id": "-abh8kvxvIxR",
        "colab_type": "text"
      },
      "source": [
        "## Color space comparison\n"
      ]
    },
    {
      "cell_type": "code",
      "metadata": {
        "id": "sFf_HN6QynC0",
        "colab_type": "code",
        "colab": {}
      },
      "source": [
        "space_SLIC = SLIC(butterfly_IP.imgs['blur'], [25, 25], dist_metric_args=[2.])\n",
        "space_SLIC.iterate(10)\n",
        "\n",
        "color_SLIC = SLIC(butterfly_IP.imgs['blur'], [25, 25], dist_metric_args=[.5])\n",
        "color_SLIC.iterate(10)"
      ],
      "execution_count": 0,
      "outputs": []
    },
    {
      "cell_type": "code",
      "metadata": {
        "id": "Nuk90gOpvItp",
        "colab_type": "code",
        "colab": {}
      },
      "source": [
        "fig, ax = plt.subplots(figsize=[30, 30])\n",
        "butterfly_IP.plot('original', ax=ax)\n",
        "space_SLIC.plot(option='edges', ax=ax)\n",
        "ax.set(title='')\n",
        "ax.axis('off')\n",
        "plt.savefig(r'space_bias.tif')\n",
        "\n",
        "fig, ax = plt.subplots(figsize=[30, 30])\n",
        "butterfly_IP.plot('original', ax=ax)\n",
        "color_SLIC.plot(option='edges', ax=ax)\n",
        "ax.set(title='')\n",
        "ax.axis('off')\n",
        "plt.savefig(r'color_bias.tif')"
      ],
      "execution_count": 0,
      "outputs": []
    },
    {
      "cell_type": "markdown",
      "metadata": {
        "id": "iifwCUsuvIpK",
        "colab_type": "text"
      },
      "source": [
        "## SLIC and MSLIC Comparison"
      ]
    },
    {
      "cell_type": "code",
      "metadata": {
        "id": "2nGP0VQlvIf7",
        "colab_type": "code",
        "colab": {}
      },
      "source": [
        "IP_example_white = Image_processor(path='images/example_white.tif')\n",
        "IP_example_polar = Image_processor(path='images/example_polar.tif')"
      ],
      "execution_count": 0,
      "outputs": []
    },
    {
      "cell_type": "code",
      "metadata": {
        "id": "LF3mkz7S_XOb",
        "colab_type": "code",
        "colab": {}
      },
      "source": [
        "# blur the image to reduce spotting effect\n",
        "IP_example_white.reset()\n",
        "IP_example_white.gauss(sigma=3, key='blur')\n",
        "\n",
        "# blur the image to reduce spotting effect\n",
        "IP_example_polar.reset()\n",
        "IP_example_polar.gauss(sigma=3, key='blur')"
      ],
      "execution_count": 0,
      "outputs": []
    },
    {
      "cell_type": "code",
      "metadata": {
        "id": "7UUN7JixAdK5",
        "colab_type": "code",
        "colab": {}
      },
      "source": [
        "# SLIC on both\n",
        "white_SLIC = SLIC(IP_example_white.imgs['blur'], [25, 25], dist_metric_args=[1.])\n",
        "white_SLIC.iterate(10)\n",
        "\n",
        "polar_SLIC = SLIC(IP_example_polar.imgs['blur'], [25, 25], dist_metric_args=[1.])\n",
        "polar_SLIC.iterate(10)"
      ],
      "execution_count": 0,
      "outputs": []
    },
    {
      "cell_type": "code",
      "metadata": {
        "id": "ifxEcnD6Bdm_",
        "colab_type": "code",
        "colab": {}
      },
      "source": [
        "fig, ax = plt.subplots(figsize=[30, 30])\n",
        "IP_example_white.plot('original', ax=ax)\n",
        "white_SLIC.plot(option='edges', ax=ax)\n",
        "ax.set(title='')\n",
        "ax.axis('off')\n",
        "plt.savefig(r'white_SLIC.tif')\n",
        "\n",
        "fig, ax = plt.subplots(figsize=[30, 30])\n",
        "IP_example_polar.plot('original', ax=ax)\n",
        "polar_SLIC.plot(option='edges', ax=ax)\n",
        "ax.set(title='')\n",
        "ax.axis('off')\n",
        "plt.savefig(r'polar_SLIC.tif')"
      ],
      "execution_count": 0,
      "outputs": []
    },
    {
      "cell_type": "code",
      "metadata": {
        "id": "QTn9TPkBBdhP",
        "colab_type": "code",
        "colab": {}
      },
      "source": [
        "# MSLIC with both\n",
        "example_MSLIC = MSLIC_wrapper([IP_example_white.imgs['blur'],\n",
        "                               IP_example_polar.imgs['blur']][::-1],\n",
        "                              [25, 25],\n",
        "                              dist_metric_args=[1.])\n",
        "example_MSLIC.iterate(10)"
      ],
      "execution_count": 0,
      "outputs": []
    },
    {
      "cell_type": "code",
      "metadata": {
        "id": "4Skb_DNMT2SE",
        "colab_type": "code",
        "colab": {}
      },
      "source": [
        "fig, ax = plt.subplots(figsize=[30, 30])\n",
        "IP_example_white.plot('original', ax=ax)\n",
        "example_MSLIC.plot([0], option='edges', axs=[ax])\n",
        "ax.set(title='')\n",
        "ax.axis('off')\n",
        "plt.savefig(r'white_MSLIC.tif')\n",
        "\n",
        "fig, ax = plt.subplots(figsize=[30, 30])\n",
        "IP_example_polar.plot('original', ax=ax)\n",
        "example_MSLIC.plot([1], option='edges', axs=[ax])\n",
        "ax.set(title='')\n",
        "ax.axis('off')\n",
        "plt.savefig(r'polar_MSLIC.tif')"
      ],
      "execution_count": 0,
      "outputs": []
    },
    {
      "cell_type": "code",
      "metadata": {
        "id": "QfA_KPszP5ZZ",
        "colab_type": "code",
        "colab": {}
      },
      "source": [
        "###################################\n",
        "fig, ax = plt.subplots(figsize=[30, 30])\n",
        "IP_example_white.plot('original', ax=ax)\n",
        "example_MSLIC.plot([0], option='edges', axs=[ax])\n",
        "ax.set(title='')\n",
        "ax.axis('off')\n",
        "plt.savefig(r'white_MSLIC.tif')\n",
        "\n",
        "fig, ax = plt.subplots(figsize=[30, 30])\n",
        "IP_example_polar.plot('original', ax=ax)\n",
        "example_MSLIC.plot([1], option='edges', axs=[ax])\n",
        "ax.set(title='')\n",
        "ax.axis('off')\n",
        "plt.savefig(r'polar_MSLIC.tif')"
      ],
      "execution_count": 0,
      "outputs": []
    },
    {
      "cell_type": "markdown",
      "metadata": {
        "id": "9_pC3XvrBwq1",
        "colab_type": "text"
      },
      "source": [
        "## Number of Itertaions"
      ]
    },
    {
      "cell_type": "code",
      "metadata": {
        "id": "ZvTuJlqcDVoG",
        "colab_type": "code",
        "colab": {}
      },
      "source": [
        "# load the butterfly\n",
        "butterfly_IP = Image_processor(path='/content/images/butterfly.tif')\n",
        "\n",
        "# blur the image to reduce spotting effect\n",
        "butterfly_IP.reset()\n",
        "butterfly_IP.gauss(sigma=3, key='blur')\n",
        "\n",
        "# create slic obj\n",
        "butterfly_SLIC = SLIC(butterfly_IP.imgs['blur'], [25, 25], dist_metric_args=[1.])"
      ],
      "execution_count": 0,
      "outputs": []
    },
    {
      "cell_type": "code",
      "metadata": {
        "id": "bCTDJJytDVtZ",
        "colab_type": "code",
        "colab": {}
      },
      "source": [
        "butterfly_SLIC.iterate(10)\n",
        "\n",
        "fig, ax = plt.subplots(figsize=[30, 30])\n",
        "butterfly_IP.plot('original', ax=ax)\n",
        "butterfly_SLIC.plot(option='edges', ax=ax)\n",
        "plt.savefig(r'iterations_10.tif')"
      ],
      "execution_count": 0,
      "outputs": []
    },
    {
      "cell_type": "code",
      "metadata": {
        "colab_type": "code",
        "id": "suqbXJ6xaGDg",
        "colab": {}
      },
      "source": [
        "butterfly_SLIC.iterate(10)\n",
        "\n",
        "fig, ax = plt.subplots(figsize=[30, 30])\n",
        "butterfly_IP.plot('original', ax=ax)\n",
        "butterfly_SLIC.plot(option='edges', ax=ax)\n",
        "plt.savefig(r'iterations_20.tif')"
      ],
      "execution_count": 0,
      "outputs": []
    },
    {
      "cell_type": "code",
      "metadata": {
        "id": "xiY_tov0aGkw",
        "colab_type": "code",
        "colab": {}
      },
      "source": [
        "butterfly_SLIC.iterate(10)\n",
        "\n",
        "fig, ax = plt.subplots(figsize=[30, 30])\n",
        "butterfly_IP.plot('original', ax=ax)\n",
        "butterfly_SLIC.plot(option='edges', ax=ax)\n",
        "plt.savefig(r'iterations_30.tif')"
      ],
      "execution_count": 0,
      "outputs": []
    },
    {
      "cell_type": "markdown",
      "metadata": {
        "id": "QbkmP91T39IE",
        "colab_type": "text"
      },
      "source": [
        "## Demonstraiting edge detection"
      ]
    },
    {
      "cell_type": "code",
      "metadata": {
        "id": "BhRHYcZk3bwn",
        "colab_type": "code",
        "colab": {}
      },
      "source": [
        "# load image\n",
        "butterfly_IP = Image_processor(path='images/butterfly.tif')\n",
        "\n",
        "# blur the image to reduce spotting effect\n",
        "butterfly_IP.reset()\n",
        "butterfly_IP.gauss(sigma=3, key='blur')\n",
        "\n",
        "# create the SLIC objects iterate it and plot\n",
        "butterfly_SLIC = SLIC(butterfly_IP.imgs['blur'], [25, 25], dist_metric_args=[1.])\n",
        "butterfly_SLIC.iterate(10)"
      ],
      "execution_count": 0,
      "outputs": []
    },
    {
      "cell_type": "code",
      "metadata": {
        "id": "gx3v2AtY3b0G",
        "colab_type": "code",
        "colab": {}
      },
      "source": [
        "# create the segments\n",
        "butterfly_mask = butterfly_SLIC.get_segmentation()\n",
        "butterfly_segs = segment_group(butterfly_mask)\n",
        "butterfly_segs.enforce_size()"
      ],
      "execution_count": 0,
      "outputs": []
    },
    {
      "cell_type": "code",
      "metadata": {
        "id": "KcVxUE5p3b6r",
        "colab_type": "code",
        "colab": {}
      },
      "source": [
        "butterfly_segs.plot(back_img=butterfly_IP.imgs['original'])"
      ],
      "execution_count": 0,
      "outputs": []
    },
    {
      "cell_type": "code",
      "metadata": {
        "id": "0qCMXQAtjsvN",
        "colab_type": "code",
        "colab": {}
      },
      "source": [
        "# use scharr edge detection on original image\n",
        "fig, ax = plt.subplots(figsize=[15, 15])\n",
        "butterfly_IP.reset()\n",
        "butterfly_IP.scharr()\n",
        "butterfly_IP.plot(ax=ax)\n",
        "ax.set(title='Three Channel Scharr Edge Detection')\n",
        "ax.axis('off')\n",
        "plt.savefig('scharr.tif')"
      ],
      "execution_count": 0,
      "outputs": []
    },
    {
      "cell_type": "code",
      "metadata": {
        "id": "KmkEpnsR3b-G",
        "colab_type": "code",
        "colab": {}
      },
      "source": [
        "# threshold this image\n",
        "fig, ax = plt.subplots(figsize=[17, 17])\n",
        "butterfly_IP.grey_scale()\n",
        "butterfly_IP.threshold(0.05, key='scharr')\n",
        "butterfly_IP.plot('scharr', ax=ax)\n",
        "ax.set(title=r'Greyscale Theshold Image ($Threshold=0.05$)')\n",
        "ax.axis('off')\n",
        "plt.savefig('/content/repo/images/Results/binary_scharr.tif')"
      ],
      "execution_count": 0,
      "outputs": []
    },
    {
      "cell_type": "code",
      "metadata": {
        "id": "1MeeY5A2pbOV",
        "colab_type": "code",
        "colab": {}
      },
      "source": [
        "# define extraction function\n",
        "def edge_extraction(Xs, Ys, scharr_img):\n",
        "    return scharr_img[Ys, Xs].mean() / scharr_img.std()\n",
        "\n",
        "# pass this to the group object and plot it\n",
        "butterfly_segs.edge_confidence(edge_extraction, [butterfly_IP.imgs['scharr']])"
      ],
      "execution_count": 0,
      "outputs": []
    },
    {
      "cell_type": "code",
      "metadata": {
        "id": "8HspQsLkyZoH",
        "colab_type": "code",
        "colab": {}
      },
      "source": [
        "# make the image\n",
        "fig, ax = plt.subplots(figsize=[16, 16])\n",
        "butterfly_IP.reset()\n",
        "ax.imshow(butterfly_IP.grey_scale(), cmap='gray')\n",
        "butterfly_segs.plot('edge_conf', ax=ax)\n",
        "ax.axis('off')\n",
        "plt.savefig('edge_confidence.tif')"
      ],
      "execution_count": 0,
      "outputs": []
    },
    {
      "cell_type": "code",
      "metadata": {
        "id": "D0q2oFuVojIZ",
        "colab_type": "code",
        "colab": {}
      },
      "source": [
        "# merge by edge confidence\n",
        "butterfly_segs.merge_by_edge(edge_absent=.5)\n",
        "\n",
        "# plot the result\n",
        "fig, ax = plt.subplots(figsize=[16, 16])\n",
        "butterfly_segs.plot('merged_edges', ax=ax, back_img=butterfly_IP.imgs['original'])\n",
        "ax.axis('off')\n",
        "ax.set(title=r'Edge Confidence Merging ($Threshold=0.5$)')\n",
        "plt.savefig('images/Results/edge_conf_merged.tif')"
      ],
      "execution_count": 0,
      "outputs": []
    },
    {
      "cell_type": "markdown",
      "metadata": {
        "id": "URRFBYuA2_yp",
        "colab_type": "text"
      },
      "source": [
        "## AGNES Clustering Figures"
      ]
    },
    {
      "cell_type": "code",
      "metadata": {
        "id": "KZSCbsM33Dv_",
        "colab_type": "code",
        "colab": {}
      },
      "source": [
        "# generate dummy 2d data\n",
        "np.random.seed(10)\n",
        "features = np.random.normal(size=[500, 2])\n",
        "features[50:, :] += 5\n",
        "features[100:, :] += 5\n",
        "features[150:, 0] += 5\n",
        "features[250:300, 1] += 10\n",
        "features[350:400, 0] += 10\n",
        "features[-1, -1] += 20\n",
        "\n",
        "plt.figure(figsize=[5, 5])\n",
        "plt.scatter(*features.T)\n",
        "plt.title(\"dummy data\")"
      ],
      "execution_count": 0,
      "outputs": []
    },
    {
      "cell_type": "code",
      "metadata": {
        "id": "j4rKQzyi4_dA",
        "colab_type": "code",
        "colab": {}
      },
      "source": [
        "# iterate the clustering\n",
        "obj = AGNES(features)\n",
        "obj.iterate()"
      ],
      "execution_count": 0,
      "outputs": []
    },
    {
      "cell_type": "code",
      "metadata": {
        "id": "-icRTsN-paJh",
        "colab_type": "code",
        "colab": {}
      },
      "source": [
        "fig, axs = plt.subplots(1, 3, figsize=[27, 8])\n",
        "\n",
        "\n",
        "# ------------------------------------\n",
        "\n",
        "obj.cluster_distance_plot('dists', last_few=False, ax=axs[0])\n",
        "axs[0].set(xlabel='Iteration', ylabel='Distance', title='Dummy Data Join Distances')\n",
        "# plt.savefig('AGNES_distances.tif')\n",
        "\n",
        "\n",
        "# ------------------------------------\n",
        "\n",
        "\n",
        "obj.cluster_distance_plot('2nd', last_few=True, ax=axs[1])\n",
        "axs[1].set(xlabel='Iteration', ylabel='Distance')\n",
        "\n",
        "std =  0.4297\n",
        "axs[1].hlines(std, 477, 487, 'r', label=r'$\\sigma$')\n",
        "axs[1].hlines(2*std, 477, 487, 'g', label=r'$2\\sigma$')\n",
        "axs[1].hlines(3*std, 477, 487, 'm', label=r'$3\\sigma$')\n",
        "axs[1].hlines(4*std, 477, 487, 'k', label=r'$4\\sigma$')\n",
        "axs[1].hlines(5*std, 477, 487, 'c', label=r'$5\\sigma$')\n",
        "labs = [r'2nd Derivative', r'+$\\sigma$'] + [r'+$%i\\sigma$'%i for i in range(2, 6)]\n",
        "axs[1].legend(labels=labs, loc='upper left', fontsize=15)\n",
        "axs[1].set(title='Dummy Data Second Derivative')\n",
        "# plt.savefig('AGNES_derivative.tif')\n",
        "\n",
        "\n",
        "# ------------------------------------\n",
        "\n",
        "clusters = obj.cluster_by_derivative(n_std=1., plot=False)\n",
        "\n",
        "for clust in np.unique(clusters):\n",
        "    f = features[clusters==clust]\n",
        "    axs[2].scatter(*f .T, label=clust)\n",
        "\n",
        "# produce a legend with the unique colors from the scatter\n",
        "axs[2].legend(loc=\"upper left\", fontsize=15)\n",
        "axs[2].set(title='Dummy Data AGNES Clustering', xlabel='X Distance',\n",
        "              ylabel='Y Distance')\n",
        "\n",
        "plt.savefig('AGNES_clustering.tif')"
      ],
      "execution_count": 0,
      "outputs": []
    },
    {
      "cell_type": "code",
      "metadata": {
        "id": "H6rkm47ONxjP",
        "colab_type": "code",
        "colab": {}
      },
      "source": [
        "ax = axs[2]\n",
        "sca"
      ],
      "execution_count": 0,
      "outputs": []
    },
    {
      "cell_type": "code",
      "metadata": {
        "id": "YdYqwJFS3D6J",
        "colab_type": "code",
        "colab": {}
      },
      "source": [
        "# fig, ax = plt.subplots(figsize=[10, 10])\n",
        "# obj.cluster_distance_plot('2nd', last_few=True, ax=ax)\n",
        "# ax.set(xlabel='Iteration', ylabel='Distance')\n",
        "\n",
        "# std =  0.4297\n",
        "# ax.hlines(std, 477, 487, 'r', label=r'$\\sigma$')\n",
        "# ax.hlines(2*std, 477, 487, 'g', label=r'$2\\sigma$')\n",
        "# ax.hlines(3*std, 477, 487, 'm', label=r'$3\\sigma$')\n",
        "# ax.hlines(4*std, 477, 487, 'k', label=r'$4\\sigma$')\n",
        "# ax.hlines(5*std, 477, 487, 'c', label=r'$5\\sigma$')\n",
        "# labs = [r'2nd Derivative', r'+$\\sigma$'] + [r'+$%i\\sigma$'%i for i in range(2, 6)]\n",
        "# ax.legend(labels=labs, loc='upper left', fontsize=12)\n",
        "# ax.set(title='Dummy Data Second Derivative')\n",
        "# plt.savefig('AGNES_derivative.tif')"
      ],
      "execution_count": 0,
      "outputs": []
    },
    {
      "cell_type": "code",
      "metadata": {
        "id": "nFdxkmMELTpk",
        "colab_type": "code",
        "colab": {}
      },
      "source": [
        "# obj.cluster_by_derivative(n_std=1., plot=True)\n",
        "# plt.gca().set(title='Dummy Data AGNES Clustering', xlabel='X Distance',\n",
        "#               ylabel='Y Distance')\n",
        "# plt.savefig('AGNES_clustering.tif')"
      ],
      "execution_count": 0,
      "outputs": []
    },
    {
      "cell_type": "markdown",
      "metadata": {
        "id": "Gih4gNHasXER",
        "colab_type": "text"
      },
      "source": [
        "## Complexity Analysis"
      ]
    },
    {
      "cell_type": "code",
      "metadata": {
        "id": "GYKfb94gsgMn",
        "colab_type": "code",
        "colab": {}
      },
      "source": [
        "# load a large image made by putting 4 smaller images together\n",
        "paths = ['images/California/white_1.tif', 'images/California/white_2.tif', \n",
        "         'images/Indonesia/white_1.tif', 'images/Indonesia/white_2.tif']\n",
        "arrays = [Image_processor(path=p).imgs['original'] for p in paths]\n",
        "comb_image = np.vstack([np.hstack(arrays[:2]), np.hstack(arrays[2:])])\n",
        "IP_combo = Image_processor(img=comb_image)\n",
        "IP_combo.plot()"
      ],
      "execution_count": 0,
      "outputs": []
    },
    {
      "cell_type": "markdown",
      "metadata": {
        "id": "BSuw_rGUvvyT",
        "colab_type": "text"
      },
      "source": [
        "### SLIC time analysis"
      ]
    },
    {
      "cell_type": "code",
      "metadata": {
        "id": "qk1goticsgRR",
        "colab_type": "code",
        "colab": {}
      },
      "source": [
        "s = 400 # image size\n",
        "img = comb_image[:s, :s]\n",
        "g = 100\n",
        "bin_grid = [g, g]"
      ],
      "execution_count": 0,
      "outputs": []
    },
    {
      "cell_type": "code",
      "metadata": {
        "id": "pMs1bc5DsgWK",
        "colab_type": "code",
        "colab": {}
      },
      "source": [
        "%%timeit\n",
        "obj = SLIC(img, bin_grid)\n",
        "obj.iterate(10)"
      ],
      "execution_count": 0,
      "outputs": []
    },
    {
      "cell_type": "markdown",
      "metadata": {
        "id": "ncq6KovXsNB4",
        "colab_type": "text"
      },
      "source": [
        "**Times varying grid size**\n",
        "\n",
        "size 400 used\n",
        "\n",
        "(2, 2) 1 loop, best of 3: 4.87 s per loop\n",
        "\n",
        "(4, 4) 1 loop, best of 3: 7.49 s per loop\n",
        "\n",
        "(5, 5) 1 loop, best of 3: 8.16 s per loop\n",
        "\n",
        "(8, 8) 1 loop, best of 3: 9.47 s per loop\n",
        "\n",
        "(10, 10) 1 loop, best of 3: 10.1 s per loop\n",
        "\n",
        "(16, 16) 1 loop, best of 3: 12.3 s per loop\n",
        "\n",
        "(20, 20) 1 loop, best of 3: 14 s per loop\n",
        "\n",
        "(25, 25) 1 loop, best of 3: 16.5 s per loop\n",
        "\n",
        "(40, 40) 1 loop, best of 3: 25.8 s per loop\n",
        "\n",
        "(50, 50) 1 loop, best of 3: 34.3 s per loop\n",
        "\n",
        "(100, 100) 1 loop, best of 3: 1min 45s per loop"
      ]
    },
    {
      "cell_type": "code",
      "metadata": {
        "id": "cBd0Ck95tQ9t",
        "colab_type": "code",
        "colab": {}
      },
      "source": [
        "times = [4.87, 7.49, 8.16, 9.47, 10.1, 12.3, 14, 16.5, 25.8, 34.3, 60+45]\n",
        "sizes = [2, 4, 5, 8, 10, 16, 20, 25, 40, 50, 100]\n",
        "centroids = np.array(sizes)**2\n",
        "\n",
        "plt.figure(figsize=[8,8])\n",
        "plt.loglog(centroids, times, 'bo-', label='Times')\n",
        "\n",
        "\n",
        "x = np.logspace(1, 4, 10)\n",
        "y = .5 * x**0.5\n",
        "plt.loglog(x, y, 'g--', label=r'$\\mathcal{O}(10^\\frac{1}{2})$)')\n",
        "\n",
        "\n",
        "plt.gca().set(title='SLIC Grid Size Runtime', xlabel='Number of Grid Points',\n",
        "              ylabel='Runtime [s]')\n",
        "plt.legend(loc='upper left', fontsize=14)\n",
        "\n",
        "plt.savefig('SLIC_grid_runtimes.png')"
      ],
      "execution_count": 0,
      "outputs": []
    },
    {
      "cell_type": "markdown",
      "metadata": {
        "id": "SrjYFq89qhd6",
        "colab_type": "text"
      },
      "source": [
        "**Times varying grid size**\n",
        "\n",
        "size 500 used\n",
        "\n",
        "(5,5) 1 loop, best of 3: 12.8 s per loop\n",
        "\n",
        "(10, 10) 1 loop, best of 3: 15.7 s per loop\n",
        "\n",
        "(20, 20) 1 loop, best of 3: 21 s per loop"
      ]
    },
    {
      "cell_type": "markdown",
      "metadata": {
        "id": "z_X93WUcwPe-",
        "colab_type": "text"
      },
      "source": [
        "**Times varying image size**\n",
        "\n",
        "grid (10, 10) used\n",
        "\n",
        "s = 50, 1 loop, best of 3: 390 ms per loop\n",
        "\n",
        "s = 100, 1 loop, best of 3: 884 ms per loop\n",
        "\n",
        "s = 150, 1 loop, best of 3: 1.75 s per loop\n",
        "\n",
        "s = 200, 1 loop, best of 3: 2.86 s per loop\n",
        "\n",
        "s = 300, 1 loop, best of 3: 5.97 s per loop\n",
        "\n",
        "s = 400, 1 loop, best of 3: 10.2 s per loop\n",
        "\n",
        "(without GPU 1 loop, best of 3: 10.4 s per loop)\n",
        "\n",
        "s = 600, 1 loop, best of 3: 22.5 s per loop\n",
        "\n",
        "s = 800, 1 loop, best of 3: 39.9 s per loop\n",
        "\n",
        "s = 1000, 1 loop, best of 3: 1min 2s per loop\n",
        "\n",
        "s = 1200, 1 loop, best of 3: 1min 29s per loop\n",
        "\n",
        "s = 1600, 1 loop, best of 3: 2min 37s per loop"
      ]
    },
    {
      "cell_type": "markdown",
      "metadata": {
        "id": "oVvRqNKRGKR9",
        "colab_type": "text"
      },
      "source": [
        "Runtime with GPU: 10.2 s\n",
        "\n",
        "Runtime without GPU: 10.4s"
      ]
    },
    {
      "cell_type": "code",
      "metadata": {
        "id": "fdUGPCDfD1En",
        "colab_type": "code",
        "colab": {}
      },
      "source": [
        "times = [390e-3, 884e-3, 1.75, 2.86, 5.97, 10.2, 22.5, 39.9, 60 + 2, 60 + 29, 120 + 37]\n",
        "sizes = [50, 100, 150, 200, 300, 400, 600, 800, 1000, 1200, 1600]\n",
        "pixels = np.array(sizes)**2\n",
        "\n",
        "plt.figure(figsize=[8,8])\n",
        "plt.loglog(pixels, times, 'bo-', label='Times')\n",
        "\n",
        "x = np.logspace(4, 7, 10)\n",
        "y = 1e-5 * x**1\n",
        "plt.loglog(x, y, 'r--', label=r'$\\mathcal{O}(10^1)$)')\n",
        "\n",
        "\n",
        "plt.gca().set(title='SLIC Image Size Runtime', xlabel='Number of Pixels',\n",
        "              ylabel='Runtime [s]')\n",
        "plt.legend(loc='upper left', fontsize=14)\n",
        "\n",
        "plt.savefig('SLIC_size_runtimes.png')"
      ],
      "execution_count": 0,
      "outputs": []
    },
    {
      "cell_type": "markdown",
      "metadata": {
        "id": "gc3GywzGwWrW",
        "colab_type": "text"
      },
      "source": [
        "### SLIC memory analysis"
      ]
    },
    {
      "cell_type": "code",
      "metadata": {
        "id": "Y2IHtEnK8hru",
        "colab_type": "code",
        "colab": {}
      },
      "source": [
        "!pip install memory_profiler"
      ],
      "execution_count": 0,
      "outputs": []
    },
    {
      "cell_type": "code",
      "metadata": {
        "id": "x_qCQb6i-yyU",
        "colab_type": "code",
        "colab": {}
      },
      "source": [
        "%load_ext memory_profiler"
      ],
      "execution_count": 0,
      "outputs": []
    },
    {
      "cell_type": "code",
      "metadata": {
        "id": "LgGPuVPT-p2S",
        "colab_type": "code",
        "colab": {}
      },
      "source": [
        "%memit [range(0, i) for i in range(1, 100)]"
      ],
      "execution_count": 0,
      "outputs": []
    },
    {
      "cell_type": "code",
      "metadata": {
        "id": "yBl4N8F48hwW",
        "colab_type": "code",
        "colab": {}
      },
      "source": [
        "%%memit\n",
        "\n",
        "s = 1200 # image size\n",
        "img = comb_image[:s, :s]\n",
        "bin_grid = [10, 10]\n",
        "\n",
        "obj = SLIC(img, bin_grid)\n",
        "obj.iterate(10)"
      ],
      "execution_count": 0,
      "outputs": []
    },
    {
      "cell_type": "markdown",
      "metadata": {
        "id": "tH8uI2Ya-2jS",
        "colab_type": "text"
      },
      "source": [
        "s = 50,\n",
        "\n",
        "s = 100,\n",
        "\n",
        "s = 400, peak memory: 811.61 MiB, increment: 0.08 MiB\n",
        "\n",
        "s = 1600, peak memory: 1022.53 MiB, increment: 0.01 MiB"
      ]
    },
    {
      "cell_type": "markdown",
      "metadata": {
        "id": "fD4nmcMgVHH5",
        "colab_type": "text"
      },
      "source": [
        "# Butterfly\n"
      ]
    },
    {
      "cell_type": "markdown",
      "metadata": {
        "id": "RG5dbe_TAQSY",
        "colab_type": "text"
      },
      "source": [
        "## over segmentation"
      ]
    },
    {
      "cell_type": "code",
      "metadata": {
        "id": "G7zEKWlYVKJm",
        "colab_type": "code",
        "colab": {}
      },
      "source": [
        "butterfly_IP = Image_processor(path='images/butterfly.tif')\n",
        "butterfly_IP.plot()"
      ],
      "execution_count": 0,
      "outputs": []
    },
    {
      "cell_type": "code",
      "metadata": {
        "id": "qpntU3hVxZXz",
        "colab_type": "code",
        "colab": {}
      },
      "source": [
        "# blur the image to reduce spotting effect\n",
        "butterfly_IP.reset()\n",
        "butterfly_IP.gauss(sigma=3, key='blur')\n",
        "\n",
        "# create the SLIC object iterate it and plot\n",
        "butterfly_SLIC = SLIC(butterfly_IP.imgs['blur'], [25, 25], dist_metric_args=[1.])\n",
        "butterfly_SLIC.iterate(10)\n",
        "butterfly_SLIC.plot()"
      ],
      "execution_count": 0,
      "outputs": []
    },
    {
      "cell_type": "markdown",
      "metadata": {
        "id": "k9-lyHKrPi4Z",
        "colab_type": "text"
      },
      "source": [
        "## Create Segments and Define Extraction Functions"
      ]
    },
    {
      "cell_type": "code",
      "metadata": {
        "id": "vDDW3K26PnUC",
        "colab_type": "code",
        "colab": {}
      },
      "source": [
        "# extract mask\n",
        "butterfly_mask = butterfly_SLIC.get_segmentation()\n",
        "\n",
        "# create segment groups, enforce size and plot\n",
        "butterfly_segs = segment_group(butterfly_mask)\n",
        "butterfly_segs.enforce_size(min_size=50)\n",
        "\n",
        "# plot the segments\n",
        "butterfly_segs.plot(back_img=butterfly_IP.imgs['original'])"
      ],
      "execution_count": 0,
      "outputs": []
    },
    {
      "cell_type": "code",
      "metadata": {
        "id": "PvW0jXjkRAUv",
        "colab_type": "code",
        "colab": {}
      },
      "source": [
        "# obtain the edge detected image\n",
        "butterfly_IP.reset()\n",
        "butterfly_IP.scharr()\n",
        "butterfly_IP.grey_scale()\n",
        "butterfly_IP.threshold(0.05, key='scharr')\n",
        "butterfly_IP.plot('scharr')"
      ],
      "execution_count": 0,
      "outputs": []
    },
    {
      "cell_type": "code",
      "metadata": {
        "id": "CuUCRtQyRhTi",
        "colab_type": "code",
        "colab": {}
      },
      "source": [
        "# define edge extraction function\n",
        "def edge_extraction(Xs, Ys, scharr_img):\n",
        "    return scharr_img[Ys, Xs].mean() / scharr_img.std()\n",
        "\n",
        "# define color extracton function\n",
        "def color_extraction(Xs, Ys, img1):\n",
        "    \"\"\"\n",
        "    Takes in a single image and returns the average at the cordinates in\n",
        "    each color channel\n",
        "    \"\"\"\n",
        "    avgs1 = img1[Ys, Xs].mean(axis=0)\n",
        "    return [*avgs1]"
      ],
      "execution_count": 0,
      "outputs": []
    },
    {
      "cell_type": "code",
      "metadata": {
        "id": "CJVO7gXEfv3V",
        "colab_type": "code",
        "colab": {}
      },
      "source": [
        "# older extraction functions\n",
        "\n",
        "\n",
        "# extract color and texture features\n",
        "# titles = ['red_avg', 'green_avg', 'blue_avg', 'lap_avg']\n",
        "# def extraction(Xs, Ys, img_col, img_grad):\n",
        "#     \"\"\"\n",
        "#     \"\"\"\n",
        "#     avgs_col = img_col[Ys, Xs].mean(axis=0)\n",
        "#     avg_grad = (img_grad[Ys, Xs]**2).mean()\n",
        "#     return [*avgs_col, avg_grad]\n",
        "\n",
        "\n",
        "# extract color and std features\n",
        "# titles = ['red_avg', 'green_avg', 'blue_avg',\n",
        "#           'red_std', 'green_std', 'blue_std']\n",
        "# def extraction(Xs, Ys, img_col):\n",
        "#     \"\"\"\n",
        "#     \"\"\"\n",
        "#     avgs_col = img_col[Ys, Xs].mean(axis=0)\n",
        "#     stds_col = img_col[Ys, Xs].std(axis=0)\n",
        "#     return [*avgs_col, *stds_col*5]\n",
        "\n",
        "\n",
        "# extract color and gabor features\n",
        "# titles = ['red_avg', 'green_avg', 'blue_avg',\n",
        "#           'gabor_avg', 'gabor_std']\n",
        "# def extraction(Xs, Ys, img_col, img_gab):\n",
        "#     \"\"\"\n",
        "#     \"\"\"\n",
        "#     avgs_col = img_col[Ys, Xs].mean(axis=0)\n",
        "#     avgs_gab = (img_gab[Ys, Xs]**2).mean()\n",
        "#     stds_gab = img_gab[Ys, Xs].std()\n",
        "#     return [*avgs_col, avgs_gab*3, stds_gab]\n"
      ],
      "execution_count": 0,
      "outputs": []
    },
    {
      "cell_type": "markdown",
      "metadata": {
        "id": "Fqj_cCOhAbJY",
        "colab_type": "text"
      },
      "source": [
        "## Merge by Clustering"
      ]
    },
    {
      "cell_type": "code",
      "metadata": {
        "id": "SehH4RsU6aOw",
        "colab_type": "code",
        "colab": {}
      },
      "source": [
        "# extract features\n",
        "butterfly_feats = butterfly_segs.feature_extraction(color_extraction,\n",
        "                                                    [butterfly_IP.imgs['blur']])\n",
        "\n",
        "# inspect features\n",
        "pd.DataFrame(butterfly_feats, columns=['red_avg', 'green_avg', 'blue_avg']).describe()"
      ],
      "execution_count": 0,
      "outputs": []
    },
    {
      "cell_type": "code",
      "metadata": {
        "id": "y7MnHfcj2NWK",
        "colab_type": "code",
        "colab": {}
      },
      "source": [
        "# normalise features if need be\n",
        "# butterfly_feats = butterfly_feats - butterfly_feats.mean(axis=0)\n",
        "# butterfly_feats = butterfly_feats / butterfly_feats.std(axis=0)\n",
        "\n",
        "# inspect features\n",
        "# pd.DataFrame(butterfly_feats, columns=titles).describe()"
      ],
      "execution_count": 0,
      "outputs": []
    },
    {
      "cell_type": "code",
      "metadata": {
        "id": "dbJ5q3pYg5pY",
        "colab_type": "code",
        "colab": {}
      },
      "source": [
        "# do an AGNES clustering with these features\n",
        "butterly_AGNES = AGNES(butterfly_feats)\n",
        "butterly_AGNES.iterate()\n",
        "butterly_AGNES.cluster_distance_plot('all')"
      ],
      "execution_count": 0,
      "outputs": []
    },
    {
      "cell_type": "code",
      "metadata": {
        "colab_type": "code",
        "id": "ACjin8Zd0CSQ",
        "colab": {}
      },
      "source": [
        "# get the clustering and assign it\n",
        "butterly_clusters = butterly_AGNES.cluster_by_derivative(n_std=2., plot=False)\n",
        "butterfly_segs.assign_clusters(butterly_clusters)\n",
        "\n",
        "# plot these clusters\n",
        "butterfly_segs.plot('cluster_all', back_img=butterfly_IP.imgs['original'])"
      ],
      "execution_count": 0,
      "outputs": []
    },
    {
      "cell_type": "code",
      "metadata": {
        "id": "mQIKsaURg7ZI",
        "colab_type": "code",
        "colab": {}
      },
      "source": [
        "# implement cluster merging (no edge presence used)\n",
        "butterfly_segs.merge_by_cluster()\n",
        "butterfly_segs.plot('merged_edges', back_img=butterfly_IP.imgs['original'])"
      ],
      "execution_count": 0,
      "outputs": []
    },
    {
      "cell_type": "markdown",
      "metadata": {
        "id": "08jC9GOdPVmj",
        "colab_type": "text"
      },
      "source": [
        "## Merging by Edge Confidence"
      ]
    },
    {
      "cell_type": "code",
      "metadata": {
        "id": "rcFoajKvQ2Cj",
        "colab_type": "code",
        "colab": {}
      },
      "source": [
        "# Identify edge confs\n",
        "butterfly_segs.edge_confidence(edge_extraction, [butterfly_IP.imgs['scharr']])\n",
        "\n",
        "# plot them\n",
        "butterfly_segs.plot('edge_conf', back_img=butterfly_IP.imgs['original'])"
      ],
      "execution_count": 0,
      "outputs": []
    },
    {
      "cell_type": "code",
      "metadata": {
        "id": "GoEfBO6RSCQI",
        "colab_type": "code",
        "colab": {}
      },
      "source": [
        "# merge\n",
        "butterfly_segs.merge_by_edge(edge_absent=.2)\n",
        "butterfly_segs.plot('merged_edges', back_img=butterfly_IP.imgs['original'])"
      ],
      "execution_count": 0,
      "outputs": []
    },
    {
      "cell_type": "markdown",
      "metadata": {
        "id": "Q7tWMMuqAJUt",
        "colab_type": "text"
      },
      "source": [
        "## repeate merging process again (if wanted)"
      ]
    },
    {
      "cell_type": "code",
      "metadata": {
        "id": "dP9R34dYi9JG",
        "colab_type": "code",
        "colab": {}
      },
      "source": [
        "# repeat the process for the new segmentation\n",
        "\n",
        "# feature extraction\n",
        "butterfly_feats = butterfly_segs.feature_extraction(extraction,\n",
        "                                                    [butterfly_IP.imgs['blur']])\n",
        "\n",
        "# clustering\n",
        "butterly_AGNES = AGNES(butterfly_feats)\n",
        "butterly_AGNES.iterate()\n",
        "\n",
        "# get the clustering and assign it\n",
        "butterly_clusters = butterly_AGNES.cluster_by_derivative(n_std=2., plot=False)\n",
        "butterfly_segs.assign_clusters(butterly_clusters)"
      ],
      "execution_count": 0,
      "outputs": []
    },
    {
      "cell_type": "code",
      "metadata": {
        "id": "8NF2zeCijciq",
        "colab_type": "code",
        "colab": {}
      },
      "source": [
        "# plot these clusters\n",
        "butterfly_segs.plot('cluster_all', back_img=butterfly_IP.imgs['original'])"
      ],
      "execution_count": 0,
      "outputs": []
    },
    {
      "cell_type": "code",
      "metadata": {
        "id": "lh19YrgKkgRg",
        "colab_type": "code",
        "colab": {}
      },
      "source": [
        "# implement cluster merging (no edge presence used)\n",
        "butterfly_segs.merge_by_cluster()\n",
        "butterfly_IP.plot('original')\n",
        "butterfly_segs.plot('merged_edges', ax=plt.gca())"
      ],
      "execution_count": 0,
      "outputs": []
    },
    {
      "cell_type": "markdown",
      "metadata": {
        "id": "6qkIyeNJAkd2",
        "colab_type": "text"
      },
      "source": [
        "## Segmentation Analysis"
      ]
    },
    {
      "cell_type": "code",
      "metadata": {
        "id": "S1CodwPotLNL",
        "colab_type": "code",
        "colab": {}
      },
      "source": [
        "# extract the cluster mask\n",
        "butterfly_cluster = butterfly_segs.get_cluster_mask()\n",
        "plt.imshow(butterfly_cluster)\n",
        "\n",
        "# extract the segments mask\n",
        "butterfly_mask = butterfly_segs.mask"
      ],
      "execution_count": 0,
      "outputs": []
    },
    {
      "cell_type": "code",
      "metadata": {
        "id": "pU5FZROBp4p5",
        "colab_type": "code",
        "colab": {}
      },
      "source": [
        "# butterfly_cluster = butterfly_SA.clusters\n",
        "butterfly_SA = Segment_Analyser(butterfly_IP.imgs['original'],\n",
        "                      butterfly_mask,\n",
        "                      butterfly_cluster)\n",
        "butterfly_SA.set_labels()"
      ],
      "execution_count": 0,
      "outputs": []
    },
    {
      "cell_type": "code",
      "metadata": {
        "id": "5EoYVMWVx_YZ",
        "colab_type": "code",
        "colab": {}
      },
      "source": [
        "butterfly_SA.plot_clusters()"
      ],
      "execution_count": 0,
      "outputs": []
    },
    {
      "cell_type": "code",
      "metadata": {
        "id": "BgVuK31B2hni",
        "colab_type": "code",
        "colab": {}
      },
      "source": [
        "butterfly_SA.get_composition()\n",
        "print('\\n')\n",
        "butterfly_SA.get_grain_count()"
      ],
      "execution_count": 0,
      "outputs": []
    },
    {
      "cell_type": "code",
      "metadata": {
        "id": "3GDWLflkZbZ9",
        "colab_type": "code",
        "colab": {}
      },
      "source": [
        "butterfly_SA.get_gsd('wing')"
      ],
      "execution_count": 0,
      "outputs": []
    },
    {
      "cell_type": "code",
      "metadata": {
        "id": "x2dqsLAmZdQJ",
        "colab_type": "code",
        "colab": {}
      },
      "source": [
        "butterfly_SA.get_span('wing')"
      ],
      "execution_count": 0,
      "outputs": []
    },
    {
      "cell_type": "markdown",
      "metadata": {
        "id": "SQFhjXLHSMWa",
        "colab_type": "text"
      },
      "source": [
        "# Thin Sections\n",
        "This is the sequence used for each TS image, all that was changed was the load data section."
      ]
    },
    {
      "cell_type": "markdown",
      "metadata": {
        "id": "YOPWERfPetZ8",
        "colab_type": "text"
      },
      "source": [
        "## Texture, color cluster comparison"
      ]
    },
    {
      "cell_type": "markdown",
      "metadata": {
        "colab_type": "text",
        "id": "CcliYBEGCSj0"
      },
      "source": [
        "### Load Images"
      ]
    },
    {
      "cell_type": "code",
      "metadata": {
        "colab_type": "code",
        "id": "mOwXdYHvCSj3",
        "colab": {}
      },
      "source": [
        "fig, axs = plt.subplots(1, 2, figsize=[20, 10])\n",
        "\n",
        "# load data\n",
        "IP_polar = Image_processor(path='images/Indonesia/polar_3.tif')\n",
        "IP_white = Image_processor(path='images/Indonesia/white_3.tif')\n",
        "\n",
        "# plot them\n",
        "for IP, ax in zip([IP_white, IP_polar], axs.ravel()):\n",
        "    IP.plot(ax=ax)\n",
        "    ax.axis('off')\n",
        "\n",
        "# plt.savefig('images/Results/SS_both.tif')"
      ],
      "execution_count": 0,
      "outputs": []
    },
    {
      "cell_type": "markdown",
      "metadata": {
        "colab_type": "text",
        "id": "F7kYn9T4CV27"
      },
      "source": [
        "### over segmentation"
      ]
    },
    {
      "cell_type": "code",
      "metadata": {
        "colab_type": "code",
        "id": "xsFWaxm2CV2_",
        "colab": {}
      },
      "source": [
        "fig, axs = plt.subplots(1, 2, figsize=[20, 10])\n",
        "\n",
        "# guassian blur for color space\n",
        "for IP, ax in zip([IP_white, IP_polar], axs.ravel()):\n",
        "    IP.reset()\n",
        "    IP.gauss(sigma=3, key='gauss')\n",
        "    IP.plot('gauss', ax=ax)\n",
        "    ax.axis('off')\n",
        "    \n",
        "# plt.savefig('image/Results/SS_both_blured.tif')"
      ],
      "execution_count": 0,
      "outputs": []
    },
    {
      "cell_type": "code",
      "metadata": {
        "colab_type": "code",
        "id": "OARKxaIPCV3B",
        "colab": {}
      },
      "source": [
        "fig, axs = plt.subplots(1, 2, figsize=[20, 10])\n",
        "[ax.axis('off') for ax in axs.ravel()]\n",
        "\n",
        "MSLIC_obj = MSLIC_wrapper([IP_polar.imgs['original'],\n",
        "                           IP_white.imgs['original']],\n",
        "                          bin_grid=[25, 25],\n",
        "                          dist_metric_args=[.5])\n",
        "MSLIC_obj.iterate(10)\n",
        "MSLIC_obj.plot(axs=axs.ravel())"
      ],
      "execution_count": 0,
      "outputs": []
    },
    {
      "cell_type": "markdown",
      "metadata": {
        "id": "v2Z4BD9fCT-8",
        "colab_type": "text"
      },
      "source": [
        "### create segment object"
      ]
    },
    {
      "cell_type": "code",
      "metadata": {
        "colab_type": "code",
        "id": "dSw15LcaCmT4",
        "colab": {}
      },
      "source": [
        "# extract the mask\n",
        "mask = MSLIC_obj.get_segmentation()\n",
        "\n",
        "# initalise segement object and remove small grains\n",
        "segment_obj = segment_group(mask)\n",
        "\n",
        "# plot the segmentations\n",
        "fig, axs = plt.subplots(1, 2, figsize=[20, 10])\n",
        "for IP, ax in zip([IP_white, IP_polar], axs.ravel()):\n",
        "    segment_obj.plot(option='default', back_img=IP.imgs['original'], ax=ax)\n",
        "    ax.axis('off')\n",
        "    \n",
        "# plt.savefig()"
      ],
      "execution_count": 0,
      "outputs": []
    },
    {
      "cell_type": "code",
      "metadata": {
        "colab_type": "code",
        "id": "MmR2DsbLCmT8",
        "colab": {}
      },
      "source": [
        "# remove small grains\n",
        "segment_obj.enforce_size(min_size=50)"
      ],
      "execution_count": 0,
      "outputs": []
    },
    {
      "cell_type": "markdown",
      "metadata": {
        "id": "2WitND7KDFKv",
        "colab_type": "text"
      },
      "source": [
        "### color based clustering"
      ]
    },
    {
      "cell_type": "code",
      "metadata": {
        "colab_type": "code",
        "id": "5UNbDdVQCmT-",
        "colab": {}
      },
      "source": [
        "# define extraction function (extract only color features)\n",
        "titles = ['red_nonpolar', 'green_nonpolar', 'blue_nonpolar',\n",
        "          'red_polar', 'green_polar', 'blue_polar']\n",
        "def extraction(Xs, Ys, img1, img2):\n",
        "    \"\"\"\n",
        "    Takes in two images and returns the average at the cordinates in\n",
        "    each color channel for both images\n",
        "    \"\"\"\n",
        "    avgs1 = img1[Ys, Xs].mean(axis=0)\n",
        "    avgs2 = img2[Ys, Xs].mean(axis=0)\n",
        "    return [*avgs1, *avgs2]\n",
        "\n",
        "# extract features\n",
        "feats = segment_obj.feature_extraction(extract_func = extraction,\n",
        "                                       func_vars = [IP_white.imgs['gauss'],\n",
        "                                                    IP_polar.imgs['gauss']])\n",
        "pd.DataFrame(feats, columns=titles).describe()"
      ],
      "execution_count": 0,
      "outputs": []
    },
    {
      "cell_type": "code",
      "metadata": {
        "colab_type": "code",
        "id": "n4ret3JJCmUA",
        "colab": {}
      },
      "source": [
        "# cluster by AGNES\n",
        "AGNES_obj = AGNES(feats)\n",
        "AGNES_obj.iterate()\n",
        "AGNES_obj.cluster_distance_plot('2nd')"
      ],
      "execution_count": 0,
      "outputs": []
    },
    {
      "cell_type": "code",
      "metadata": {
        "colab_type": "code",
        "id": "PXGRtQnOCmUC",
        "colab": {}
      },
      "source": [
        "# form the clustering\n",
        "clustering = AGNES_obj.cluster_by_derivative(n_std=3., plot=False)\n",
        "segment_obj.assign_clusters(clustering)\n",
        "\n",
        "# plot all clusters\n",
        "segment_obj.plot('cluster_all', back_img=IP_white.imgs['original'])\n",
        "\n",
        "# plt.savefig('Gabon_1_clusterings.tif')"
      ],
      "execution_count": 0,
      "outputs": []
    },
    {
      "cell_type": "markdown",
      "metadata": {
        "id": "4wVWHNp6CUHB",
        "colab_type": "text"
      },
      "source": [
        "### Texture based clustering"
      ]
    },
    {
      "cell_type": "code",
      "metadata": {
        "id": "91ObtvOEDKgL",
        "colab_type": "code",
        "colab": {}
      },
      "source": [
        "fig, axs = plt.subplots(1, 2, figsize=[20, 10])\n",
        "for IP, ax in zip([IP_white, IP_polar], axs.ravel()):\n",
        "    IP.reset()\n",
        "    IP.laplace(key='lap')\n",
        "    IP.plot(key='lap', ax=ax)"
      ],
      "execution_count": 0,
      "outputs": []
    },
    {
      "cell_type": "code",
      "metadata": {
        "id": "Zo5_9XKpIt_x",
        "colab_type": "code",
        "colab": {}
      },
      "source": [
        "fig, axs = plt.subplots(1, 2, figsize=[20, 10])\n",
        "for IP, ax in zip([IP_white, IP_polar], axs.ravel()):\n",
        "    IP.reset()\n",
        "    IP.grey_scale()\n",
        "    IP.laplace(key='lap')\n",
        "    IP.plot(key='lap', ax=ax)"
      ],
      "execution_count": 0,
      "outputs": []
    },
    {
      "cell_type": "code",
      "metadata": {
        "id": "WJ0Tv_PsGarM",
        "colab_type": "code",
        "colab": {}
      },
      "source": [
        "fig, axs = plt.subplots(1, 2, figsize=[20, 10])\n",
        "for IP, ax in zip([IP_white, IP_polar], axs.ravel()):\n",
        "    IP.reset()\n",
        "    IP.grey_scale()\n",
        "    IP.gabor_filters(2, 5, key='gab')\n",
        "    IP.plot(key='gab', ax=ax)"
      ],
      "execution_count": 0,
      "outputs": []
    },
    {
      "cell_type": "code",
      "metadata": {
        "id": "VepKbokZC5He",
        "colab_type": "code",
        "colab": {}
      },
      "source": [
        "# define extraction function (extract only color features)\n",
        "# titles = ['lap_avg_nonpolar', 'lap_std_nonpolar',\n",
        "#           'lap_avg_polar', 'lap_std_polar']\n",
        "\n",
        "def extraction(Xs, Ys, img1, img2):\n",
        "    \"\"\"\n",
        "    Takes in two images and returns the average at the cordinates in\n",
        "    each color channel for both images\n",
        "    \"\"\"\n",
        "    avg1 = img1[Ys, Xs].mean(axis=0)\n",
        "    avg2 = img2[Ys, Xs].mean(axis=0)\n",
        "    return [*avg1, *avg2]\n",
        "\n",
        "\n",
        "\n",
        "# titles = ['red_std_nonpolar', 'green_std_nonpolar', 'blue_std_nonpolar',\n",
        "#           'red_std_polar', 'green_std_polar', 'blue_std_polar']\n",
        "def extraction_std(Xs, Ys, img1, img2):\n",
        "    std1 = img1[Ys, Xs].std(axis=0)\n",
        "    std2 = img2[Ys, Xs].std(axis=0)\n",
        "    return [*std1, *std2]\n",
        "\n",
        "\n",
        "titles= ['gab_avg_nonpolar', 'gab_std_nonpolar',\n",
        "         'gab_avg_polar', 'gab_std_polar']\n",
        "def extraction_single(Xs, Ys, img1, img2):\n",
        "    avg1 = img1[Ys, Xs].mean()\n",
        "    avg2 = img2[Ys, Xs].mean()\n",
        "    std1 = img1[Ys, Xs].std()\n",
        "    std2 = img2[Ys, Xs].std()\n",
        "    return [avg1, avg2, std1, std2]\n",
        "\n",
        "# extract features\n",
        "feats = segment_obj.feature_extraction(extract_func = extraction_single,\n",
        "                                       func_vars = [IP_white.imgs['lap'],\n",
        "                                                    IP_polar.imgs['lap']])\n",
        "pd.DataFrame(feats, columns=titles).describe()"
      ],
      "execution_count": 0,
      "outputs": []
    },
    {
      "cell_type": "code",
      "metadata": {
        "id": "Vkrg0YuAFZaT",
        "colab_type": "code",
        "colab": {}
      },
      "source": [
        "# cluster by AGNES\n",
        "AGNES_obj = AGNES(feats)\n",
        "AGNES_obj.iterate()\n",
        "AGNES_obj.cluster_distance_plot('2nd')"
      ],
      "execution_count": 0,
      "outputs": []
    },
    {
      "cell_type": "code",
      "metadata": {
        "id": "ImOnNALmFdy-",
        "colab_type": "code",
        "colab": {}
      },
      "source": [
        "# form the clustering\n",
        "clustering = AGNES_obj.cluster_by_derivative(n_std=3., plot=False)\n",
        "segment_obj.assign_clusters(clustering)\n",
        "\n",
        "# plot all clusters\n",
        "segment_obj.plot('cluster_all', back_img=IP_white.imgs['original'])\n",
        "\n",
        "# plt.savefig('Gabon_1_clusterings.tif')"
      ],
      "execution_count": 0,
      "outputs": []
    },
    {
      "cell_type": "markdown",
      "metadata": {
        "id": "tOkuiY3EexRc",
        "colab_type": "text"
      },
      "source": [
        "## Porosity determination"
      ]
    },
    {
      "cell_type": "markdown",
      "metadata": {
        "id": "uybrI39GCsCX",
        "colab_type": "text"
      },
      "source": [
        "### Load Images"
      ]
    },
    {
      "cell_type": "code",
      "metadata": {
        "id": "GlwNYCfRhLOH",
        "colab_type": "code",
        "colab": {}
      },
      "source": [
        "fig, axs = plt.subplots(1, 2, figsize=[20, 10])\n",
        "\n",
        "# load data\n",
        "IP_polar = Image_processor(path='images/Thailand/polar_1.tif')\n",
        "IP_white = Image_processor(path='images/Thailand/white_1.tif')\n",
        "\n",
        "# plot them\n",
        "for IP, ax in zip([IP_white, IP_polar], axs.ravel()):\n",
        "    IP.plot(ax=ax)\n",
        "    ax.axis('off')\n",
        "\n",
        "plt.savefig('proc_1.png')"
      ],
      "execution_count": 0,
      "outputs": []
    },
    {
      "cell_type": "markdown",
      "metadata": {
        "id": "PwzOb41-xL0A",
        "colab_type": "text"
      },
      "source": [
        "### over segmentation"
      ]
    },
    {
      "cell_type": "code",
      "metadata": {
        "id": "lw5mHsMx4EHF",
        "colab_type": "code",
        "colab": {}
      },
      "source": [
        "fig, axs = plt.subplots(1, 2, figsize=[20, 10])\n",
        "\n",
        "# guassian blur for color space\n",
        "for IP, ax in zip([IP_white, IP_polar], axs.ravel()):\n",
        "    IP.reset()\n",
        "    IP.gauss(sigma=3, key='gauss')\n",
        "    IP.plot('gauss', ax=ax)\n",
        "    ax.axis('off')\n",
        "    \n",
        "plt.savefig('proc_2.png')"
      ],
      "execution_count": 0,
      "outputs": []
    },
    {
      "cell_type": "code",
      "metadata": {
        "id": "fzGKowW4oki4",
        "colab_type": "code",
        "colab": {}
      },
      "source": [
        "fig, axs = plt.subplots(1, 2, figsize=[20, 10])\n",
        "[ax.axis('off') for ax in axs.ravel()]\n",
        "\n",
        "MSLIC_obj = MSLIC_wrapper([IP_polar.imgs['gauss'],\n",
        "                           IP_white.imgs['gauss']],\n",
        "                          bin_grid=[25, 25],\n",
        "                          dist_metric_args=[.5])\n",
        "MSLIC_obj.iterate(10)\n",
        "MSLIC_obj.plot(axs=axs.ravel())\n",
        "\n",
        "plt.savefig('proc_3.png')"
      ],
      "execution_count": 0,
      "outputs": []
    },
    {
      "cell_type": "markdown",
      "metadata": {
        "id": "az4gNB9YEkVn",
        "colab_type": "text"
      },
      "source": [
        "### segment clustering"
      ]
    },
    {
      "cell_type": "code",
      "metadata": {
        "id": "UBN7fzEXb5Xk",
        "colab_type": "code",
        "colab": {}
      },
      "source": [
        "# extract the mask\n",
        "mask = MSLIC_obj.get_segmentation()\n",
        "\n",
        "# initalise segement object and remove small grains\n",
        "segment_obj = segment_group(mask)\n",
        "\n",
        "# plot the segmentations\n",
        "fig, axs = plt.subplots(1, 2, figsize=[20, 10])\n",
        "for IP, ax in zip([IP_white, IP_polar], axs.ravel()):\n",
        "    segment_obj.plot(option='default', back_img=IP.imgs['original'], ax=ax)\n",
        "    ax.axis('off')\n",
        "    \n",
        "plt.savefig('proc_4.png')"
      ],
      "execution_count": 0,
      "outputs": []
    },
    {
      "cell_type": "code",
      "metadata": {
        "id": "iODDDXArpJGH",
        "colab_type": "code",
        "colab": {}
      },
      "source": [
        "# remove small grains\n",
        "segment_obj.enforce_size(min_size=50)"
      ],
      "execution_count": 0,
      "outputs": []
    },
    {
      "cell_type": "code",
      "metadata": {
        "id": "syUAlMLUCWPf",
        "colab_type": "code",
        "colab": {}
      },
      "source": [
        "# define extraction function (extract only color features)\n",
        "titles = ['red_nonpolar', 'green_nonpolar', 'blue_nonpolar',\n",
        "          'red_polar', 'green_polar', 'blue_polar']\n",
        "def extraction(Xs, Ys, img1, img2):\n",
        "    \"\"\"\n",
        "    Takes in two images and returns the average at the cordinates in\n",
        "    each color channel for both images\n",
        "    \"\"\"\n",
        "    avgs1 = img1[Ys, Xs].mean(axis=0)\n",
        "    avgs2 = img2[Ys, Xs].mean(axis=0)\n",
        "    return [*avgs1, *avgs2]\n",
        "\n",
        "# extract features\n",
        "feats = segment_obj.feature_extraction(extract_func = extraction,\n",
        "                                       func_vars = [IP_white.imgs['gauss'],\n",
        "                                                    IP_polar.imgs['gauss']])\n",
        "pd.DataFrame(feats, columns=titles).describe()"
      ],
      "execution_count": 0,
      "outputs": []
    },
    {
      "cell_type": "code",
      "metadata": {
        "id": "uCDoporsDhSx",
        "colab_type": "code",
        "colab": {}
      },
      "source": [
        "# cluster by AGNES\n",
        "AGNES_obj = AGNES(feats)\n",
        "AGNES_obj.iterate()\n",
        "AGNES_obj.cluster_distance_plot('2nd')"
      ],
      "execution_count": 0,
      "outputs": []
    },
    {
      "cell_type": "code",
      "metadata": {
        "id": "juQ4v1UQ2rKF",
        "colab_type": "code",
        "colab": {}
      },
      "source": [
        "# form the clustering\n",
        "clustering = AGNES_obj.cluster_by_derivative(n_std=3., plot=False)\n",
        "segment_obj.assign_clusters(clustering)\n",
        "\n",
        "# plot all clusters\n",
        "segment_obj.plot('cluster_all', back_img=IP_white.imgs['original'])\n",
        "\n",
        "plt.savefig('proc_5.png')"
      ],
      "execution_count": 0,
      "outputs": []
    },
    {
      "cell_type": "markdown",
      "metadata": {
        "id": "eaarGlbwHuJG",
        "colab_type": "text"
      },
      "source": [
        "### edge detection"
      ]
    },
    {
      "cell_type": "code",
      "metadata": {
        "id": "Do7GquRwWOpO",
        "colab_type": "code",
        "colab": {}
      },
      "source": [
        "# edge detected image\n",
        "fig, axs = plt.subplots(1, 2, figsize=[20, 10])\n",
        "for IP, ax in zip([IP_white, IP_polar], axs.ravel()):\n",
        "    IP.reset()\n",
        "    IP.grey_scale()\n",
        "    IP.canny()\n",
        "    IP.gauss_grey(sigma=3)\n",
        "    IP.threshold(.15, 'edges')\n",
        "    IP.plot('edges', ax=ax)\n",
        "    ax.axis('off')\n",
        "    \n",
        "plt.savefig('proc_6.png')"
      ],
      "execution_count": 0,
      "outputs": []
    },
    {
      "cell_type": "code",
      "metadata": {
        "id": "ARUmrvOWHqpd",
        "colab_type": "code",
        "colab": {}
      },
      "source": [
        "# define the edge confidence funciton\n",
        "def edge_conf(Xs, Ys, img1, img2):\n",
        "    return img1[Ys, Xs].mean() + img2[Ys, Xs].mean()\n",
        "\n",
        "# calculate edge condifences\n",
        "segment_obj.edge_confidence(edge_conf, [IP_polar.imgs['edges'],\n",
        "                                        IP_white.imgs['edges']])\n",
        "\n",
        "# plot them\n",
        "segment_obj.plot('edge_conf', back_img=IP_white.imgs['original'])\n",
        "\n",
        "plt.savefig('proc_7.png')"
      ],
      "execution_count": 0,
      "outputs": []
    },
    {
      "cell_type": "markdown",
      "metadata": {
        "id": "1SGjtuk7HqxD",
        "colab_type": "text"
      },
      "source": [
        "### Segment Merging"
      ]
    },
    {
      "cell_type": "code",
      "metadata": {
        "id": "hYXqBp0M1yNg",
        "colab_type": "code",
        "colab": {}
      },
      "source": [
        "# merge connected segments\n",
        "segment_obj.merge_by_cluster(edge_present=1.)\n",
        "# segment_obj.merge_by_edge(edge_absent=.25)\n",
        "\n",
        "# plot the results\n",
        "fig, axs = plt.subplots(1, 2, figsize=[20, 10])\n",
        "for IP, ax in zip([IP_white, IP_polar], axs.ravel()):\n",
        "    segment_obj.plot('merged_edges', back_img=IP.imgs['original'], ax=ax)\n",
        "    ax.axis('off')\n",
        "#     ax.set(title='Post Cluster Merging')\n",
        "    \n",
        "plt.savefig('proc_8.png')"
      ],
      "execution_count": 0,
      "outputs": []
    },
    {
      "cell_type": "markdown",
      "metadata": {
        "id": "Cl8ESy5QthkP",
        "colab_type": "text"
      },
      "source": [
        "### segment analysis"
      ]
    },
    {
      "cell_type": "code",
      "metadata": {
        "id": "2Lbzw4mh8TIN",
        "colab_type": "code",
        "colab": {}
      },
      "source": [
        "# extract mask and clustering\n",
        "seg_mask = segment_obj.mask\n",
        "clust_mask = segment_obj.get_cluster_mask()\n",
        "\n",
        "# tx2_clusters = SA_obj.clusters # keep already clusters labels\n",
        "SA_obj = Segment_Analyser(IP_white.imgs['original'],\n",
        "                          seg_mask,\n",
        "                          clust_mask)\n",
        "SA_obj.set_labels()"
      ],
      "execution_count": 0,
      "outputs": []
    },
    {
      "cell_type": "code",
      "metadata": {
        "id": "Lm4kgmGyulxr",
        "colab_type": "code",
        "colab": {}
      },
      "source": [
        "SA_obj.plot_clusters()\n",
        "\n",
        "plt.savefig('proc_9.png')\n",
        "\n",
        "SA_obj.get_composition()"
      ],
      "execution_count": 0,
      "outputs": []
    },
    {
      "cell_type": "code",
      "metadata": {
        "id": "fg8yegr6XGVi",
        "colab_type": "code",
        "colab": {}
      },
      "source": [
        "SA_obj.get_gsd('rock')\n",
        "plt.savefig('proc_10.png')"
      ],
      "execution_count": 0,
      "outputs": []
    },
    {
      "cell_type": "markdown",
      "metadata": {
        "id": "mAAOsV-RIS5g",
        "colab_type": "text"
      },
      "source": [
        "### Save Segementations"
      ]
    },
    {
      "cell_type": "code",
      "metadata": {
        "id": "lckfgdVDIS9d",
        "colab_type": "code",
        "colab": {}
      },
      "source": [
        "# save this mask\n",
        "# np.savetxt('masks/TX2_MSLIC_25_25.tif', MSLIC_obj.get_segmentation())"
      ],
      "execution_count": 0,
      "outputs": []
    },
    {
      "cell_type": "code",
      "metadata": {
        "id": "9QLlqn-dOn9y",
        "colab_type": "code",
        "colab": {}
      },
      "source": [
        "# save the masks\n",
        "# np.savetxt('/content/masks/both_30_30_merged_6_channel_color.txt', segments.mask)\n",
        "# np.save('/content/masks/both_30_30_merged_6_channel_color_groupings.npy', segments.seg_clusters)"
      ],
      "execution_count": 0,
      "outputs": []
    },
    {
      "cell_type": "markdown",
      "metadata": {
        "id": "kIh1zJoK_FkF",
        "colab_type": "text"
      },
      "source": [
        "### Save Results"
      ]
    },
    {
      "cell_type": "markdown",
      "metadata": {
        "id": "fVxqRdfq_Hv5",
        "colab_type": "text"
      },
      "source": [
        "Indonesia 1\n",
        "Tabel of Compositions\n",
        "0.47 %\t silt\n",
        "66.52 %\t rock\n",
        "33.01 %\t pore\n",
        "\n",
        "Indonesia 2\n",
        "Tabel of Compositions\n",
        "63.77 %\t rock\n",
        "25.94 %\t pore\n",
        "10.3 %\t silt\n",
        "\n",
        "Indonesia 3\n",
        "Tabel of Compositions\n",
        "26.29 %\t pore\n",
        "14.83 %\t silt\n",
        "58.88 %\t rock\n",
        "\n",
        "Gabon 1\n",
        "Tabel of Compositions\n",
        "11.92 %\t pore\n",
        "39.76 %\t silt\n",
        "32.54 %\t rock\n",
        "15.78 %\t silt/pore\n",
        "\n",
        "Gabon 2\n",
        "Tabel of Compositions\n",
        "48.52 %\t silt\n",
        "13.91 %\t silt/pore\n",
        "37.57 %\t rock\n",
        "\n",
        "Gabon 3\n",
        "Tabel of Compositions\n",
        "55.89 %\t silt\n",
        "30.03 %\t rock\n",
        "14.08 %\t pore\n",
        "\n",
        "Norway 1\n",
        "Tabel of Compositions\n",
        "13.16 %\t pore\n",
        "12.26 %\t silt\n",
        "74.58 %\t rock\n",
        "\n",
        "Norway 2\n",
        "Tabel of Compositions\n",
        "14.23 %\t pore\n",
        "29.21 %\t silt\n",
        "39.97 %\t rock\n",
        "16.59 %\t silt/pore\n",
        "\n",
        "Norway 3\n",
        "Tabel of Compositions\n",
        "44.19 %\t rock\n",
        "15.03 %\t pore\n",
        "30.77 %\t silt\n",
        "\n",
        "Texas 2\n",
        "Tabel of Compositions\n",
        "19.36 %\t pore\n",
        "80.64 %\t rock\n",
        "\n",
        "Texas 3\n",
        "Tabel of Compositions\n",
        "13.84 %\t pore\n",
        "9.57 %\t silt\n",
        "63.67 %\t rock\n",
        "12.91 %\t silt/pore\n",
        "\n",
        "Texas 4\n",
        "Tabel of Compositions\n",
        "14.96 %\t pore\n",
        "29.0 %\t silt\n",
        "56.05 %\t rock\n",
        "\n",
        "Thailand 1\n",
        "Tabel of Compositions\n",
        "15.54 %\t pore\n",
        "72.69 %\t rock\n",
        "11.77 %\t silt\n",
        "\n",
        "Thailand 2\n",
        "Tabel of Compositions\n",
        "65.8 %\t rock\n",
        "17.27 %\t silt\n",
        "16.93 %\t pore\n",
        "\n",
        "Thailand 3\n",
        "Tabel of Compositions\n",
        "26.05 %\t pore\n",
        "66.76 %\t rock\n",
        "7.20 %\t silt\n",
        "\n",
        "California 1\n",
        "Tabel of Compositions\n",
        "28.54 %\t silt\n",
        "4.97 %\t pore\n",
        "66.49 %\t rock\n",
        "\n",
        "California 2\n",
        "Tabel of Compositions\n",
        "11.98 %\t silt\n",
        "75.48 %\t rock\n",
        "12.54 %\t pore\n",
        "\n",
        "California 3\n",
        "Tabel of Compositions\n",
        "15.19 %\t pore\n",
        "71.5 %\t rock\n",
        "13.31 %\t silt"
      ]
    },
    {
      "cell_type": "code",
      "metadata": {
        "id": "eKKRWlJj9luV",
        "colab_type": "code",
        "colab": {}
      },
      "source": [
        "titles = ['Indonesia', 'Gabon   ', 'Norway   ', 'Texas   ', 'Thailand', 'California']\n",
        "results = np.array([[33.01, 25.94, 26.29],\n",
        "                    [11.92, 13.91, 14.08],\n",
        "                    [13.16, 14.23, 15.03],\n",
        "                    [19.36, 13.84, 14.96],\n",
        "                    [15.54, 16.93, 26.05],\n",
        "                    [4.97, 12.54, 15.19]])\n",
        "\n",
        "actual = np.array([22.0, 20.7, 21.9, 21.0, 19.6, 15.1])\n",
        "\n",
        "print('Region \\t\\t Avg \\t\\t Std \\t\\t Actual \\t Diff')\n",
        "print('-'*72)\n",
        "for l, r, a in zip(titles, results, actual):\n",
        "    avg = round(r.mean(),2)\n",
        "    std = round(r.std(),2)\n",
        "    print(l, '\\t', avg, '\\t\\t', std, '\\t\\t', a, '\\t\\t', round((avg-a),2))"
      ],
      "execution_count": 0,
      "outputs": []
    }
  ]
}
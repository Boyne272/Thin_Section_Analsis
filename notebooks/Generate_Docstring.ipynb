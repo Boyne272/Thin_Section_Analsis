{
  "nbformat": 4,
  "nbformat_minor": 0,
  "metadata": {
    "colab": {
      "name": "Generate_Docstring.ipynb",
      "version": "0.3.2",
      "provenance": [],
      "collapsed_sections": [
        "c3n0brBIjHmk"
      ],
      "toc_visible": true
    },
    "kernelspec": {
      "name": "python3",
      "display_name": "Python 3"
    }
  },
  "cells": [
    {
      "cell_type": "markdown",
      "metadata": {
        "id": "wkFeh-9QfYPg",
        "colab_type": "text"
      },
      "source": [
        "# Generate Docstring\n"
      ]
    },
    {
      "cell_type": "markdown",
      "metadata": {
        "colab_type": "text",
        "id": "lbQCGqPuemk2"
      },
      "source": [
        "## Download Code\n",
        "If not already present this clones the repo into google colab. If all packages are already locally present this is not needed."
      ]
    },
    {
      "cell_type": "code",
      "metadata": {
        "id": "Fsxg_VcBEG8U",
        "colab_type": "code",
        "outputId": "8e1012b6-331f-474b-9d72-9a0913c8bbcb",
        "colab": {
          "base_uri": "https://localhost:8080/",
          "height": 199
        }
      },
      "source": [
        "from getpass import getpass\n",
        "from gettext import gettext\n",
        "import os\n",
        "\n",
        "!git config --global user.email \"rmb115@ic.ac.uk\"\n",
        "!git config --global user.name \"Richard Boyne\"\n",
        "\n",
        "# if we have not already cloned before\n",
        "if not os.path.isdir(\".git\"):\n",
        "    \n",
        "    # get username and password\n",
        "    user = input('github username: ')\n",
        "    password = getpass('github password: ')\n",
        "    os.environ['GITHUB_AUTH'] = user + ':' + password\n",
        "\n",
        "    # clone the repo and move into it\n",
        "#     !git clone --quiet https://$GITHUB_AUTH@github.com/msc-acse/acse-9-independent-research-project-Boyne272.git TSA_repo\n",
        "    !git clone --quiet https://$GITHUB_AUTH@github.com/Boyne272/acse-9-independent-research-project-Boyne272.git TSA_repo\n",
        "    %cd TSA_repo\n",
        "\n",
        "    # swap to the wanted branch\n",
        "    !git checkout Release --quiet\n",
        "\n",
        "# show where we are\n",
        "!git show --summary"
      ],
      "execution_count": 0,
      "outputs": [
        {
          "output_type": "stream",
          "text": [
            "github username: Boyne272\n",
            "github password: ··········\n",
            "/content/TSA_repo\n",
            "\u001b[33mcommit 27e05ee3bde8d5f1e0e2fd6043a557c42fe5ce94\u001b[m\u001b[33m (\u001b[m\u001b[1;36mHEAD -> \u001b[m\u001b[1;32mRelease\u001b[m\u001b[33m, \u001b[m\u001b[1;31morigin/Release\u001b[m\u001b[33m)\u001b[m\n",
            "Author: Richard Boyne <boynerichard@yahoo.co.uk>\n",
            "Date:   Mon Aug 26 07:31:31 2019 +0000\n",
            "\n",
            "    I am dumb\n",
            "\n",
            " create mode 100644 images/meme.jpg\n"
          ],
          "name": "stdout"
        }
      ]
    },
    {
      "cell_type": "markdown",
      "metadata": {
        "id": "c3n0brBIjHmk",
        "colab_type": "text"
      },
      "source": [
        "## Run Tests\n",
        "All tests are contained in the modules directory next to the .py files themselves. Pytest is able to pick up on them, alternativly test file will work if run by itself."
      ]
    },
    {
      "cell_type": "code",
      "metadata": {
        "id": "fEQEyy8Dijx5",
        "colab_type": "code",
        "outputId": "55d643bf-27d7-46ed-ed19-b29764c68fbb",
        "colab": {
          "base_uri": "https://localhost:8080/",
          "height": 255
        }
      },
      "source": [
        "%cd /content/TSA_repo\n",
        "!pytest # last run 23rd Aug"
      ],
      "execution_count": 0,
      "outputs": [
        {
          "output_type": "stream",
          "text": [
            "/content/TSA_repo\n",
            "\u001b[1m============================= test session starts ==============================\u001b[0m\n",
            "platform linux2 -- Python 2.7.15+, pytest-3.6.4, py-1.8.0, pluggy-0.7.1\n",
            "rootdir: /content/TSA_repo, inifile:\n",
            "collected 24 items                                                             \u001b[0m\n",
            "\n",
            "TSA/kmeans/test_MSLIC.py ...\u001b[36m                                             [ 12%]\u001b[0m\n",
            "TSA/kmeans/test_SLIC.py .....\u001b[36m                                            [ 33%]\u001b[0m\n",
            "TSA/merging/test_AGNES.py ...\u001b[36m                                            [ 45%]\u001b[0m\n",
            "TSA/merging/test_Segments.py ........\u001b[36m                                    [ 79%]\u001b[0m\n",
            "TSA/pre_post_processing/test_Image_processor.py ....\u001b[36m                     [ 95%]\u001b[0m\n",
            "TSA/pre_post_processing/test_Segment_Analyser.py .\u001b[36m                       [100%]\u001b[0m\n",
            "\n",
            "\u001b[32m\u001b[1m========================== 24 passed in 77.84 seconds ==========================\u001b[0m\n"
          ],
          "name": "stdout"
        }
      ]
    },
    {
      "cell_type": "markdown",
      "metadata": {
        "id": "NWo6Zmf0v4W-",
        "colab_type": "text"
      },
      "source": [
        "## Github forking"
      ]
    },
    {
      "cell_type": "code",
      "metadata": {
        "id": "SBs6Gk_0wAnn",
        "colab_type": "code",
        "colab": {}
      },
      "source": [
        "!git remote add upstream https://github.com/msc-acse/acse-9-independent-research-project-Boyne272.git"
      ],
      "execution_count": 0,
      "outputs": []
    },
    {
      "cell_type": "code",
      "metadata": {
        "id": "62GoocFGv621",
        "colab_type": "code",
        "outputId": "1cf7937e-021a-4772-8560-d935f4d5df07",
        "colab": {
          "base_uri": "https://localhost:8080/",
          "height": 181
        }
      },
      "source": [
        "!git fetch upstream"
      ],
      "execution_count": 0,
      "outputs": [
        {
          "output_type": "stream",
          "text": [
            "remote: Enumerating objects: 9, done.\u001b[K\n",
            "remote: Counting objects:  12% (1/8)\u001b[K\rremote: Counting objects:  25% (2/8)\u001b[K\rremote: Counting objects:  37% (3/8)\u001b[K\rremote: Counting objects:  50% (4/8)\u001b[K\rremote: Counting objects:  62% (5/8)\u001b[K\rremote: Counting objects:  75% (6/8)\u001b[K\rremote: Counting objects:  87% (7/8)\u001b[K\rremote: Counting objects: 100% (8/8)\u001b[K\rremote: Counting objects: 100% (8/8), done.\u001b[K\n",
            "remote: Compressing objects:  33% (1/3)\u001b[K\rremote: Compressing objects:  66% (2/3)\u001b[K\rremote: Compressing objects: 100% (3/3)\u001b[K\rremote: Compressing objects: 100% (3/3), done.\u001b[K\n",
            "remote: Total 5 (delta 3), reused 3 (delta 2), pack-reused 0\n",
            "Unpacking objects:  20% (1/5)   \rUnpacking objects:  40% (2/5)   \rUnpacking objects:  60% (3/5)   \rUnpacking objects:  80% (4/5)   \rUnpacking objects: 100% (5/5)   \rUnpacking objects: 100% (5/5), done.\n",
            "From https://github.com/msc-acse/acse-9-independent-research-project-Boyne272\n",
            " * [new branch]      Release      -> upstream/Release\n",
            " * [new branch]      housekeeping -> upstream/housekeeping\n",
            " * [new branch]      master       -> upstream/master\n"
          ],
          "name": "stdout"
        }
      ]
    },
    {
      "cell_type": "code",
      "metadata": {
        "id": "RCh2P4t6wdXD",
        "colab_type": "code",
        "outputId": "b3f0273f-70c3-4e7d-d502-9fdbb6cec818",
        "colab": {
          "base_uri": "https://localhost:8080/",
          "height": 54
        }
      },
      "source": [
        "!git checkout master"
      ],
      "execution_count": 0,
      "outputs": [
        {
          "output_type": "stream",
          "text": [
            "Switched to branch 'master'\n",
            "Your branch is up to date with 'origin/master'.\n"
          ],
          "name": "stdout"
        }
      ]
    },
    {
      "cell_type": "code",
      "metadata": {
        "id": "VIynbS0Pwh8h",
        "colab_type": "code",
        "outputId": "5be78914-158e-4bfa-8b11-dcf0843661c3",
        "colab": {
          "base_uri": "https://localhost:8080/",
          "height": 163
        }
      },
      "source": [
        "!git merge upstream/master"
      ],
      "execution_count": 0,
      "outputs": [
        {
          "output_type": "stream",
          "text": [
            "Removing images/North_Germany/white_3.tif\n",
            "Removing images/North_Germany/white_2.tif\n",
            "Removing images/North_Germany/white_1.tif\n",
            "Removing images/North_Germany/polar_3.tif\n",
            "Removing images/North_Germany/polar_2.tif\n",
            "Removing images/North_Germany/polar_1.tif\n",
            "hint: Waiting for your editor to close the file... error: unable to start editor 'editor'\n",
            "Not committing merge; use 'git commit' to complete the merge.\n"
          ],
          "name": "stdout"
        }
      ]
    },
    {
      "cell_type": "code",
      "metadata": {
        "id": "wVpKTE9uwn7i",
        "colab_type": "code",
        "outputId": "50ea1cb5-91e1-4caa-ee33-9abc3a4ba81f",
        "colab": {
          "base_uri": "https://localhost:8080/",
          "height": 35
        }
      },
      "source": [
        "!git commit -m \"downloaded updates\""
      ],
      "execution_count": 0,
      "outputs": [
        {
          "output_type": "stream",
          "text": [
            "[master 1028f2d] downloaded updates\n"
          ],
          "name": "stdout"
        }
      ]
    },
    {
      "cell_type": "code",
      "metadata": {
        "id": "Aep84elbwxlY",
        "colab_type": "code",
        "outputId": "ab8a06f0-e2c4-42d5-dbb2-ff2f7fd03c38",
        "colab": {
          "base_uri": "https://localhost:8080/",
          "height": 308
        }
      },
      "source": [
        "!ls docs -la"
      ],
      "execution_count": 0,
      "outputs": [
        {
          "output_type": "stream",
          "text": [
            "total 100\n",
            "drwxr-xr-x 7 root root  4096 Aug 27 11:15 .\n",
            "drwxr-xr-x 8 root root  4096 Aug 27 11:15 ..\n",
            "-rw-r--r-- 1 root root    25 Aug 27 11:15 _config.yml\n",
            "-rw-r--r-- 1 root root 20602 Aug 27 11:13 genindex.html\n",
            "drwxr-xr-x 2 root root  4096 Aug 27 11:13 _images\n",
            "-rw-r--r-- 1 root root 10086 Aug 27 11:13 index.html\n",
            "drwxr-xr-x 2 root root  4096 Aug 27 11:13 man\n",
            "drwxr-xr-x 2 root root  4096 Aug 27 11:13 mods\n",
            "-rw-r--r-- 1 root root     0 Aug 27 11:15 .nojekyll\n",
            "-rw-r--r-- 1 root root   998 Aug 27 11:13 objects.inv\n",
            "-rw-r--r-- 1 root root  6789 Aug 27 11:13 py-modindex.html\n",
            "-rw-r--r-- 1 root root  5313 Aug 27 11:13 search.html\n",
            "-rw-r--r-- 1 root root 12102 Aug 27 11:13 searchindex.js\n",
            "drwxr-xr-x 4 root root  4096 Aug 27 11:13 _sources\n",
            "drwxr-xr-x 5 root root  4096 Aug 27 11:13 _static\n"
          ],
          "name": "stdout"
        }
      ]
    },
    {
      "cell_type": "code",
      "metadata": {
        "id": "OjGH02csw2f4",
        "colab_type": "code",
        "outputId": "7831af91-d109-4c4c-c041-4139433bdfb5",
        "colab": {
          "base_uri": "https://localhost:8080/",
          "height": 163
        }
      },
      "source": [
        "!git push origin master"
      ],
      "execution_count": 0,
      "outputs": [
        {
          "output_type": "stream",
          "text": [
            "Counting objects: 3, done.\n",
            "Delta compression using up to 2 threads.\n",
            "Compressing objects:  33% (1/3)   \rCompressing objects:  66% (2/3)   \rCompressing objects: 100% (3/3)   \rCompressing objects: 100% (3/3), done.\n",
            "Writing objects:  33% (1/3)   \rWriting objects:  66% (2/3)   \rWriting objects: 100% (3/3)   \rWriting objects: 100% (3/3), 362 bytes | 362.00 KiB/s, done.\n",
            "Total 3 (delta 2), reused 0 (delta 0)\n",
            "remote: Resolving deltas: 100% (2/2), completed with 2 local objects.\u001b[K\n",
            "To https://github.com/Boyne272/acse-9-independent-research-project-Boyne272.git\n",
            "   7f3565d..1028f2d  master -> master\n"
          ],
          "name": "stdout"
        }
      ]
    },
    {
      "cell_type": "markdown",
      "metadata": {
        "id": "6kwfmGrNQ48O",
        "colab_type": "text"
      },
      "source": [
        "## Github Space"
      ]
    },
    {
      "cell_type": "code",
      "metadata": {
        "id": "_PYIXwD1Q_RW",
        "colab_type": "code",
        "outputId": "a94a31e7-fc9e-4f4f-a6e6-2dec550c991b",
        "colab": {
          "base_uri": "https://localhost:8080/",
          "height": 90
        }
      },
      "source": [
        "!git status"
      ],
      "execution_count": 0,
      "outputs": [
        {
          "output_type": "stream",
          "text": [
            "On branch Release\n",
            "Your branch is up to date with 'origin/Release'.\n",
            "\n",
            "nothing to commit, working tree clean\n"
          ],
          "name": "stdout"
        }
      ]
    },
    {
      "cell_type": "code",
      "metadata": {
        "id": "Sghk3CiLQ_Ut",
        "colab_type": "code",
        "colab": {}
      },
      "source": [
        "!git add docs/.nojekyll"
      ],
      "execution_count": 0,
      "outputs": []
    },
    {
      "cell_type": "code",
      "metadata": {
        "id": "aLCwAeQqxknP",
        "colab_type": "code",
        "outputId": "28aedbce-a264-4671-b499-ae39d0d29388",
        "colab": {
          "base_uri": "https://localhost:8080/",
          "height": 72
        }
      },
      "source": [
        "!git commit -m \"this is needed to stop to format the docs page\" -m \"long story short github pages has some feature called jekyll which means it ignores folders with an _ at the front meaning all css files are skipped, hence web page looks poor\""
      ],
      "execution_count": 0,
      "outputs": [
        {
          "output_type": "stream",
          "text": [
            "[Release 3a873be] this is needed to stop to format the docs page\n",
            " 1 file changed, 0 insertions(+), 0 deletions(-)\n",
            " create mode 100644 docs/.nojekyll\n"
          ],
          "name": "stdout"
        }
      ]
    },
    {
      "cell_type": "code",
      "metadata": {
        "id": "BR7P4piHoTkW",
        "colab_type": "code",
        "outputId": "2f73d68d-28d5-44f7-f560-2cb1551c6567",
        "colab": {
          "base_uri": "https://localhost:8080/",
          "height": 163
        }
      },
      "source": [
        "!git push origin Release"
      ],
      "execution_count": 0,
      "outputs": [
        {
          "output_type": "stream",
          "text": [
            "Counting objects: 3, done.\n",
            "Delta compression using up to 2 threads.\n",
            "Compressing objects:  33% (1/3)   \rCompressing objects:  66% (2/3)   \rCompressing objects: 100% (3/3)   \rCompressing objects: 100% (3/3), done.\n",
            "Writing objects:  33% (1/3)   \rWriting objects:  66% (2/3)   \rWriting objects: 100% (3/3)   \rWriting objects: 100% (3/3), 457 bytes | 457.00 KiB/s, done.\n",
            "Total 3 (delta 2), reused 0 (delta 0)\n",
            "remote: Resolving deltas:   0% (0/2)\u001b[K\rremote: Resolving deltas:  50% (1/2)\u001b[K\rremote: Resolving deltas: 100% (2/2)\u001b[K\rremote: Resolving deltas: 100% (2/2), completed with 2 local objects.\u001b[K\n",
            "To https://github.com/msc-acse/acse-9-independent-research-project-Boyne272.git\n",
            "   27e05ee..3a873be  Release -> Release\n"
          ],
          "name": "stdout"
        }
      ]
    },
    {
      "cell_type": "markdown",
      "metadata": {
        "id": "gTt_NfRjZ604",
        "colab_type": "text"
      },
      "source": [
        "## Install TSA"
      ]
    },
    {
      "cell_type": "code",
      "metadata": {
        "id": "UgTuoT-3aJsy",
        "colab_type": "code",
        "outputId": "d8c13ce9-7ad5-44de-895c-256b81223e4d",
        "colab": {
          "base_uri": "https://localhost:8080/",
          "height": 35
        }
      },
      "source": [
        "%cd /content/TSA_repo/"
      ],
      "execution_count": 0,
      "outputs": [
        {
          "output_type": "stream",
          "text": [
            "/content/TSA_repo\n"
          ],
          "name": "stdout"
        }
      ]
    },
    {
      "cell_type": "code",
      "metadata": {
        "id": "Il5ztmtRZ7J6",
        "colab_type": "code",
        "colab": {}
      },
      "source": [
        "# !pip uninstall TSA"
      ],
      "execution_count": 0,
      "outputs": []
    },
    {
      "cell_type": "code",
      "metadata": {
        "id": "zQiVbamUZ7NG",
        "colab_type": "code",
        "outputId": "1f184a09-a7de-4ee4-bbd5-fa6975c44314",
        "colab": {
          "base_uri": "https://localhost:8080/",
          "height": 472
        }
      },
      "source": [
        "!pip install ."
      ],
      "execution_count": 0,
      "outputs": [
        {
          "output_type": "stream",
          "text": [
            "Processing /content/TSA_repo\n",
            "Requirement already satisfied: numpy in /usr/local/lib/python3.6/dist-packages (from TSA==1.0.0) (1.16.4)\n",
            "Requirement already satisfied: matplotlib in /usr/local/lib/python3.6/dist-packages (from TSA==1.0.0) (3.0.3)\n",
            "Requirement already satisfied: scipy in /usr/local/lib/python3.6/dist-packages (from TSA==1.0.0) (1.3.1)\n",
            "Requirement already satisfied: torch in /usr/local/lib/python3.6/dist-packages (from TSA==1.0.0) (1.1.0)\n",
            "Requirement already satisfied: scikit-image in /usr/local/lib/python3.6/dist-packages (from TSA==1.0.0) (0.15.0)\n",
            "Requirement already satisfied: kiwisolver>=1.0.1 in /usr/local/lib/python3.6/dist-packages (from matplotlib->TSA==1.0.0) (1.1.0)\n",
            "Requirement already satisfied: cycler>=0.10 in /usr/local/lib/python3.6/dist-packages (from matplotlib->TSA==1.0.0) (0.10.0)\n",
            "Requirement already satisfied: python-dateutil>=2.1 in /usr/local/lib/python3.6/dist-packages (from matplotlib->TSA==1.0.0) (2.5.3)\n",
            "Requirement already satisfied: pyparsing!=2.0.4,!=2.1.2,!=2.1.6,>=2.0.1 in /usr/local/lib/python3.6/dist-packages (from matplotlib->TSA==1.0.0) (2.4.2)\n",
            "Requirement already satisfied: PyWavelets>=0.4.0 in /usr/local/lib/python3.6/dist-packages (from scikit-image->TSA==1.0.0) (1.0.3)\n",
            "Requirement already satisfied: pillow>=4.3.0 in /usr/local/lib/python3.6/dist-packages (from scikit-image->TSA==1.0.0) (4.3.0)\n",
            "Requirement already satisfied: imageio>=2.0.1 in /usr/local/lib/python3.6/dist-packages (from scikit-image->TSA==1.0.0) (2.4.1)\n",
            "Requirement already satisfied: networkx>=2.0 in /usr/local/lib/python3.6/dist-packages (from scikit-image->TSA==1.0.0) (2.3)\n",
            "Requirement already satisfied: setuptools in /usr/local/lib/python3.6/dist-packages (from kiwisolver>=1.0.1->matplotlib->TSA==1.0.0) (41.2.0)\n",
            "Requirement already satisfied: six in /usr/local/lib/python3.6/dist-packages (from cycler>=0.10->matplotlib->TSA==1.0.0) (1.12.0)\n",
            "Requirement already satisfied: olefile in /usr/local/lib/python3.6/dist-packages (from pillow>=4.3.0->scikit-image->TSA==1.0.0) (0.46)\n",
            "Requirement already satisfied: decorator>=4.3.0 in /usr/local/lib/python3.6/dist-packages (from networkx>=2.0->scikit-image->TSA==1.0.0) (4.4.0)\n",
            "Building wheels for collected packages: TSA\n",
            "  Building wheel for TSA (setup.py) ... \u001b[?25l\u001b[?25hdone\n",
            "  Created wheel for TSA: filename=TSA-1.0.0-cp36-none-any.whl size=40866 sha256=4a27e9e19e8fbec5697f27f3a030eaffe96ca3b1d63651cafbb2c319c54d19de\n",
            "  Stored in directory: /tmp/pip-ephem-wheel-cache-elhah70n/wheels/ea/a3/39/2504a755f1161b16e6d23f984250c40e18af62f819ed7d4951\n",
            "Successfully built TSA\n",
            "Installing collected packages: TSA\n",
            "Successfully installed TSA-1.0.0\n"
          ],
          "name": "stdout"
        }
      ]
    },
    {
      "cell_type": "code",
      "metadata": {
        "id": "S84BsTFpaCeM",
        "colab_type": "code",
        "outputId": "c2fda4b8-a9ca-4367-8954-a33c212cab69",
        "colab": {
          "base_uri": "https://localhost:8080/",
          "height": 92
        }
      },
      "source": [
        "import TSA\n",
        "print(dir(TSA))\n",
        "print(TSA.__file__)\n",
        "print(dir(TSA.kmeans))"
      ],
      "execution_count": 0,
      "outputs": [
        {
          "output_type": "stream",
          "text": [
            "['TSA', '__builtins__', '__cached__', '__doc__', '__file__', '__loader__', '__name__', '__package__', '__path__', '__spec__', 'kmeans', 'merging', 'pre_post_processing', 'tools']\n",
            "/content/TSA_repo/TSA/__init__.py\n",
            "['MSLIC', 'MSLIC_wrapper', 'SLIC', '__all__', '__builtins__', '__cached__', '__doc__', '__file__', '__loader__', '__name__', '__package__', '__path__', '__spec__']\n"
          ],
          "name": "stdout"
        }
      ]
    },
    {
      "cell_type": "code",
      "metadata": {
        "id": "j5VAYiT7b-pe",
        "colab_type": "code",
        "outputId": "cd5b3ff8-dcc4-47c7-8424-2b49831d7370",
        "colab": {
          "base_uri": "https://localhost:8080/",
          "height": 254
        }
      },
      "source": [
        "import TSA.kmeans as km\n",
        "dir(km)"
      ],
      "execution_count": 0,
      "outputs": [
        {
          "output_type": "execute_result",
          "data": {
            "text/plain": [
              "['MSLIC',\n",
              " 'MSLIC_wrapper',\n",
              " 'SLIC',\n",
              " '__all__',\n",
              " '__builtins__',\n",
              " '__cached__',\n",
              " '__doc__',\n",
              " '__file__',\n",
              " '__loader__',\n",
              " '__name__',\n",
              " '__package__',\n",
              " '__path__',\n",
              " '__spec__']"
            ]
          },
          "metadata": {
            "tags": []
          },
          "execution_count": 7
        }
      ]
    },
    {
      "cell_type": "markdown",
      "metadata": {
        "id": "cTGMU5-nQ_a1",
        "colab_type": "text"
      },
      "source": [
        "## Sphinx"
      ]
    },
    {
      "cell_type": "code",
      "metadata": {
        "id": "m9lEMU89RLw4",
        "colab_type": "code",
        "outputId": "f0cf0162-92d1-48e3-e222-1d99f51c2753",
        "colab": {
          "base_uri": "https://localhost:8080/",
          "height": 510
        }
      },
      "source": [
        "# install prefered theme\n",
        "!pip install sphinx-rtd-theme"
      ],
      "execution_count": 0,
      "outputs": [
        {
          "output_type": "stream",
          "text": [
            "Collecting sphinx-rtd-theme\n",
            "\u001b[?25l  Downloading https://files.pythonhosted.org/packages/60/b4/4df37087a1d36755e3a3bfd2a30263f358d2dea21938240fa02313d45f51/sphinx_rtd_theme-0.4.3-py2.py3-none-any.whl (6.4MB)\n",
            "\u001b[K     |████████████████████████████████| 6.4MB 2.8MB/s \n",
            "\u001b[?25hRequirement already satisfied: sphinx in /usr/local/lib/python3.6/dist-packages (from sphinx-rtd-theme) (1.8.5)\n",
            "Requirement already satisfied: snowballstemmer>=1.1 in /usr/local/lib/python3.6/dist-packages (from sphinx->sphinx-rtd-theme) (1.9.0)\n",
            "Requirement already satisfied: setuptools in /usr/local/lib/python3.6/dist-packages (from sphinx->sphinx-rtd-theme) (41.2.0)\n",
            "Requirement already satisfied: docutils>=0.11 in /usr/local/lib/python3.6/dist-packages (from sphinx->sphinx-rtd-theme) (0.14)\n",
            "Requirement already satisfied: imagesize in /usr/local/lib/python3.6/dist-packages (from sphinx->sphinx-rtd-theme) (1.1.0)\n",
            "Requirement already satisfied: packaging in /usr/local/lib/python3.6/dist-packages (from sphinx->sphinx-rtd-theme) (19.1)\n",
            "Requirement already satisfied: sphinxcontrib-websupport in /usr/local/lib/python3.6/dist-packages (from sphinx->sphinx-rtd-theme) (1.1.2)\n",
            "Requirement already satisfied: requests>=2.0.0 in /usr/local/lib/python3.6/dist-packages (from sphinx->sphinx-rtd-theme) (2.21.0)\n",
            "Requirement already satisfied: Pygments>=2.0 in /usr/local/lib/python3.6/dist-packages (from sphinx->sphinx-rtd-theme) (2.1.3)\n",
            "Requirement already satisfied: alabaster<0.8,>=0.7 in /usr/local/lib/python3.6/dist-packages (from sphinx->sphinx-rtd-theme) (0.7.12)\n",
            "Requirement already satisfied: six>=1.5 in /usr/local/lib/python3.6/dist-packages (from sphinx->sphinx-rtd-theme) (1.12.0)\n",
            "Requirement already satisfied: Jinja2>=2.3 in /usr/local/lib/python3.6/dist-packages (from sphinx->sphinx-rtd-theme) (2.10.1)\n",
            "Requirement already satisfied: babel!=2.0,>=1.3 in /usr/local/lib/python3.6/dist-packages (from sphinx->sphinx-rtd-theme) (2.7.0)\n",
            "Requirement already satisfied: attrs in /usr/local/lib/python3.6/dist-packages (from packaging->sphinx->sphinx-rtd-theme) (19.1.0)\n",
            "Requirement already satisfied: pyparsing>=2.0.2 in /usr/local/lib/python3.6/dist-packages (from packaging->sphinx->sphinx-rtd-theme) (2.4.2)\n",
            "Requirement already satisfied: chardet<3.1.0,>=3.0.2 in /usr/local/lib/python3.6/dist-packages (from requests>=2.0.0->sphinx->sphinx-rtd-theme) (3.0.4)\n",
            "Requirement already satisfied: certifi>=2017.4.17 in /usr/local/lib/python3.6/dist-packages (from requests>=2.0.0->sphinx->sphinx-rtd-theme) (2019.6.16)\n",
            "Requirement already satisfied: idna<2.9,>=2.5 in /usr/local/lib/python3.6/dist-packages (from requests>=2.0.0->sphinx->sphinx-rtd-theme) (2.8)\n",
            "Requirement already satisfied: urllib3<1.25,>=1.21.1 in /usr/local/lib/python3.6/dist-packages (from requests>=2.0.0->sphinx->sphinx-rtd-theme) (1.24.3)\n",
            "Requirement already satisfied: MarkupSafe>=0.23 in /usr/local/lib/python3.6/dist-packages (from Jinja2>=2.3->sphinx->sphinx-rtd-theme) (1.1.1)\n",
            "Requirement already satisfied: pytz>=2015.7 in /usr/local/lib/python3.6/dist-packages (from babel!=2.0,>=1.3->sphinx->sphinx-rtd-theme) (2018.9)\n",
            "Installing collected packages: sphinx-rtd-theme\n",
            "Successfully installed sphinx-rtd-theme-0.4.3\n"
          ],
          "name": "stdout"
        }
      ]
    },
    {
      "cell_type": "code",
      "metadata": {
        "id": "7V_O4VFsc5y5",
        "colab_type": "code",
        "outputId": "a03ea7bb-9cd5-46b6-aae3-8065024216c0",
        "colab": {
          "base_uri": "https://localhost:8080/",
          "height": 35
        }
      },
      "source": [
        "import sphinx_rtd_theme\n",
        "print(sphinx_rtd_theme.__file__)"
      ],
      "execution_count": 0,
      "outputs": [
        {
          "output_type": "stream",
          "text": [
            "/usr/local/lib/python3.6/dist-packages/sphinx_rtd_theme/__init__.py\n"
          ],
          "name": "stdout"
        }
      ]
    },
    {
      "cell_type": "code",
      "metadata": {
        "id": "6qjqdEVjR4za",
        "colab_type": "code",
        "outputId": "e45f8ed7-f2d9-482e-9ca0-c19c9309367c",
        "colab": {
          "base_uri": "https://localhost:8080/",
          "height": 1000
        }
      },
      "source": [
        "%cd /content/TSA_repo/sphinx\n",
        "!make clean\n",
        "!make html"
      ],
      "execution_count": 0,
      "outputs": [
        {
          "output_type": "stream",
          "text": [
            "/content/TSA_repo/sphinx\n",
            "Removing everything under '_build'...\n",
            "\u001b[01mRunning Sphinx v1.8.5\u001b[39;49;00m\n",
            "\n",
            "%%%%%%%%%%%%%%%%%%%%%%%%%%%%%%%%%%%%%%%\n",
            " ['', '/env/python', '/usr/lib/python36.zip', '/usr/lib/python3.6', '/usr/lib/python3.6/lib-dynload', '/usr/local/lib/python3.6/dist-packages', '/usr/lib/python3/dist-packages', '/usr/local/lib/python3.6/dist-packages/'] \n",
            "%%%%%%%%%%%%%%%%%%%%%%%%%%%%%%%%%%%%%%%\n",
            "\n",
            "making output directory...\n",
            "\u001b[01mbuilding [mo]: \u001b[39;49;00mtargets for 0 po files that are out of date\n",
            "\u001b[01mbuilding [html]\u001b[39;49;00m: targets for 8 source files that are out of date\n",
            "\u001b[01mupdating environment: \u001b[39;49;00m8 added, 0 changed, 0 removed\n",
            "\u001b[01mreading sources... \u001b[39;49;00m[100%] \u001b[35mmods/tools\u001b[39;49;00m\n",
            "\u001b[31m/content/TSA_repo/sphinx/man/User_Manual.rst:144: WARNING: Undefined substitution referenced: \"###################################################\".\u001b[39;49;00m\n",
            "\u001b[31m/content/TSA_repo/sphinx/man/User_Manual.rst:173: WARNING: Undefined substitution referenced: \"###################################################\".\u001b[39;49;00m\n",
            "\u001b[31m/content/TSA_repo/sphinx/man/User_Manual.rst:192: WARNING: Undefined substitution referenced: \"###################################################\".\u001b[39;49;00m\n",
            "\u001b[31m/content/TSA_repo/sphinx/man/User_Manual.rst:317: WARNING: Undefined substitution referenced: \"###################################################\".\u001b[39;49;00m\n",
            "\u001b[31m/content/TSA_repo/sphinx/man/User_Manual.rst:434: WARNING: Undefined substitution referenced: \"###################################################\".\u001b[39;49;00m\n",
            "\u001b[31m/content/TSA_repo/sphinx/man/User_Manual.rst:699: WARNING: Undefined substitution referenced: \"###################################################\".\u001b[39;49;00m\n",
            "\u001b[31m/content/TSA_repo/sphinx/man/User_Manual.rst:699: WARNING: Undefined substitution referenced: \"###################################################\".\u001b[39;49;00m\n",
            "\u001b[31m/content/TSA_repo/sphinx/man/User_Manual.rst:699: WARNING: Undefined substitution referenced: \"###################################################\".\u001b[39;49;00m\n",
            "\u001b[31m/content/TSA_repo/sphinx/man/User_Manual.rst:699: WARNING: Undefined substitution referenced: \"###################################################\".\u001b[39;49;00m\n",
            "/usr/local/lib/python3.6/dist-packages/TSA/kmeans/SLIC.py:docstring of TSA.kmeans.SLIC.SLIC:7: WARNING: Unexpected section title.\n",
            "\n",
            "Parameters\n",
            "----------\n",
            "\u001b[31;01m/usr/local/lib/python3.6/dist-packages/TSA/kmeans/SLIC.py:docstring of TSA.kmeans.SLIC.SLIC:23: WARNING: Inline emphasis start-string without end-string.\u001b[39;49;00m\n",
            "/usr/local/lib/python3.6/dist-packages/TSA/kmeans/SLIC.py:docstring of TSA.kmeans.SLIC.bin_base:6: WARNING: Unexpected section title.\n",
            "\n",
            "Parameters\n",
            "----------\n",
            "/usr/local/lib/python3.6/dist-packages/TSA/kmeans/MSLIC.py:docstring of TSA.kmeans.MSLIC.MSLIC_wrapper:8: WARNING: Unexpected section title.\n",
            "\n",
            "Parameters\n",
            "----------\n",
            "\u001b[31;01m/usr/local/lib/python3.6/dist-packages/TSA/kmeans/MSLIC.py:docstring of TSA.kmeans.MSLIC.MSLIC_wrapper:30: WARNING: Inline emphasis start-string without end-string.\u001b[39;49;00m\n",
            "\u001b[31;01m/usr/local/lib/python3.6/dist-packages/TSA/kmeans/MSLIC.py:docstring of TSA.kmeans.MSLIC.MSLIC_wrapper:39: WARNING: Inline emphasis start-string without end-string.\u001b[39;49;00m\n",
            "/usr/local/lib/python3.6/dist-packages/TSA/kmeans/MSLIC.py:docstring of TSA.kmeans.MSLIC.MSLIC_wrapper.plot:5: WARNING: Unexpected section title.\n",
            "\n",
            "Parameters\n",
            "----------\n",
            "/usr/local/lib/python3.6/dist-packages/TSA/merging/AGNES.py:docstring of TSA.merging.AGNES.AGNES:8: WARNING: Unexpected section title.\n",
            "\n",
            "Parameters\n",
            "----------\n",
            "\u001b[31m/usr/local/lib/python3.6/dist-packages/TSA/merging/AGNES.py:docstring of TSA.merging.AGNES.AGNES:18: WARNING: Unexpected indentation.\u001b[39;49;00m\n",
            "\u001b[31;01m/usr/local/lib/python3.6/dist-packages/TSA/merging/AGNES.py:docstring of TSA.merging.AGNES.AGNES.cluster_distance_plot:4: WARNING: Title underline too short.\n",
            "\n",
            "Parameters\n",
            "---------\u001b[39;49;00m\n",
            "/usr/local/lib/python3.6/dist-packages/TSA/merging/AGNES.py:docstring of TSA.merging.AGNES.AGNES.cluster_distance_plot:4: WARNING: Unexpected section title.\n",
            "\n",
            "Parameters\n",
            "---------\n",
            "\u001b[31m/usr/local/lib/python3.6/dist-packages/TSA/merging/AGNES.py:docstring of TSA.merging.AGNES.AGNES.cluster_distance_plot:11: WARNING: Unexpected indentation.\u001b[39;49;00m\n",
            "/usr/local/lib/python3.6/dist-packages/TSA/merging/Segments.py:docstring of TSA.merging.Segments.Mask_utilities:9: WARNING: Unexpected section title.\n",
            "\n",
            "Parameters\n",
            "----------\n",
            "/usr/local/lib/python3.6/dist-packages/TSA/merging/Segments.py:docstring of TSA.merging.Segments.segment:9: WARNING: Unexpected section title.\n",
            "\n",
            "Parameters\n",
            "----------\n",
            "/usr/local/lib/python3.6/dist-packages/TSA/merging/Segments.py:docstring of TSA.merging.Segments.segment_group:11: WARNING: Unexpected section title.\n",
            "\n",
            "Parameters\n",
            "----------\n",
            "/usr/local/lib/python3.6/dist-packages/TSA/merging/Segments.py:docstring of TSA.merging.Segments.segment_group.edge_confidence:6: WARNING: Unexpected section title.\n",
            "\n",
            "Parameters\n",
            "----------\n",
            "\u001b[31;01m/usr/local/lib/python3.6/dist-packages/TSA/merging/Segments.py:docstring of TSA.merging.Segments.segment_group.edge_confidence:9: WARNING: Inline emphasis start-string without end-string.\u001b[39;49;00m\n",
            "/usr/local/lib/python3.6/dist-packages/TSA/merging/Segments.py:docstring of TSA.merging.Segments.segment_group.feature_extraction:6: WARNING: Unexpected section title.\n",
            "\n",
            "Parameters\n",
            "----------\n",
            "\u001b[31;01m/usr/local/lib/python3.6/dist-packages/TSA/merging/Segments.py:docstring of TSA.merging.Segments.segment_group.feature_extraction:9: WARNING: Inline emphasis start-string without end-string.\u001b[39;49;00m\n",
            "/usr/local/lib/python3.6/dist-packages/TSA/merging/Segments.py:docstring of TSA.merging.Segments.segment_group.feature_extraction:21: WARNING: Unexpected section title.\n",
            "\n",
            "Returns\n",
            "-------\n",
            "/usr/local/lib/python3.6/dist-packages/TSA/pre_post_processing/Segment_Analyser.py:docstring of TSA.pre_post_processing.Segment_Analyser.Segment_Analyser:10: WARNING: Unexpected section title.\n",
            "\n",
            "Parameters\n",
            "----------\n",
            "\u001b[31m/usr/local/lib/python3.6/dist-packages/TSA/tools/tools.py:docstring of TSA.tools.percent_print:5: WARNING: Unexpected indentation.\u001b[39;49;00m\n",
            "\u001b[31;01m/usr/local/lib/python3.6/dist-packages/TSA/tools/tools.py:docstring of TSA.tools.percent_print:6: WARNING: Block quote ends without a blank line; unexpected unindent.\u001b[39;49;00m\n",
            "\u001b[31;01m/usr/local/lib/python3.6/dist-packages/TSA/tools/tools.py:docstring of TSA.tools.percent_print:11: WARNING: Definition list ends without a blank line; unexpected unindent.\u001b[39;49;00m\n",
            "/usr/local/lib/python3.6/dist-packages/TSA/tools/tools.py:docstring of TSA.tools.percent_print:12: WARNING: Unexpected section title.\n",
            "\n",
            "Returns\n",
            "-------\n",
            "\u001b[01mlooking for now-outdated files... \u001b[39;49;00mnone found\n",
            "\u001b[01mpickling environment... \u001b[39;49;00mdone\n",
            "\u001b[01mchecking consistency... \u001b[39;49;00mdone\n",
            "\u001b[01mpreparing documents... \u001b[39;49;00mdone\n",
            "\u001b[01mwriting output... \u001b[39;49;00m[100%] \u001b[32mmods/tools\u001b[39;49;00m\n",
            "\u001b[01mgenerating indices...\u001b[39;49;00m genindex py-modindex\n",
            "\u001b[01mwriting additional pages...\u001b[39;49;00m search\n",
            "\u001b[01mcopying images... \u001b[39;49;00m[100%] \u001b[33mman/output_47_3.png\u001b[39;49;00m\n",
            "\u001b[01mcopying static files... \u001b[39;49;00mdone\n",
            "\u001b[01mcopying extra files... \u001b[39;49;00mdone\n",
            "\u001b[01mdumping search index in English (code: en) ... \u001b[39;49;00mdone\n",
            "\u001b[01mdumping object inventory... \u001b[39;49;00mdone\n",
            "\u001b[01mbuild succeeded, 34 warnings.\u001b[39;49;00m\n",
            "\n",
            "The HTML pages are in _build/html.\n"
          ],
          "name": "stdout"
        }
      ]
    },
    {
      "cell_type": "code",
      "metadata": {
        "id": "X9gEdMQNR5SA",
        "colab_type": "code",
        "outputId": "0b88d2a2-88e8-4cc1-acd4-f6d9132856b8",
        "colab": {
          "base_uri": "https://localhost:8080/",
          "height": 1000
        }
      },
      "source": [
        "# zip and download html\n",
        "%cd _build\n",
        "!zip -r html.zip html\n",
        "from google.colab import files\n",
        "files.download(\"html.zip\")\n",
        "%cd .."
      ],
      "execution_count": 0,
      "outputs": [
        {
          "output_type": "stream",
          "text": [
            "/content/TSA_repo/sphinx/_build\n",
            "  adding: html/ (stored 0%)\n",
            "  adding: html/objects.inv (stored 0%)\n",
            "  adding: html/_sources/ (stored 0%)\n",
            "  adding: html/_sources/mods/ (stored 0%)\n",
            "  adding: html/_sources/mods/merging.rst.txt (deflated 45%)\n",
            "  adding: html/_sources/mods/kmeans.rst.txt (deflated 46%)\n",
            "  adding: html/_sources/mods/tools.rst.txt (deflated 53%)\n",
            "  adding: html/_sources/mods/requirements.rst.txt (deflated 25%)\n",
            "  adding: html/_sources/mods/Licence.rst.txt (deflated 41%)\n",
            "  adding: html/_sources/mods/pre_post_processing.rst.txt (deflated 58%)\n",
            "  adding: html/_sources/index.rst.txt (deflated 53%)\n",
            "  adding: html/_sources/man/ (stored 0%)\n",
            "  adding: html/_sources/man/User_Manual.rst.txt (deflated 70%)\n",
            "  adding: html/searchindex.js (deflated 61%)\n",
            "  adding: html/_static/ (stored 0%)\n",
            "  adding: html/_static/css/ (stored 0%)\n",
            "  adding: html/_static/css/badge_only.css (deflated 70%)\n",
            "  adding: html/_static/css/theme.css (deflated 83%)\n",
            "  adding: html/_static/jquery-3.2.1.js (deflated 70%)\n",
            "  adding: html/_static/file.png (stored 0%)\n",
            "  adding: html/_static/minus.png (deflated 8%)\n",
            "  adding: html/_static/plus.png (deflated 7%)\n",
            "  adding: html/_static/placeholder (stored 0%)\n",
            "  adding: html/_static/up-pressed.png (stored 0%)\n",
            "  adding: html/_static/js/ (stored 0%)\n",
            "  adding: html/_static/js/theme.js (deflated 64%)\n",
            "  adding: html/_static/js/modernizr.min.js (deflated 59%)\n",
            "  adding: html/_static/basic.css (deflated 76%)\n",
            "  adding: html/_static/language_data.js (deflated 65%)\n",
            "  adding: html/_static/down.png (stored 0%)\n",
            "  adding: html/_static/jquery.js (deflated 65%)\n",
            "  adding: html/_static/comment.png (stored 0%)\n",
            "  adding: html/_static/underscore-1.3.1.js (deflated 72%)\n",
            "  adding: html/_static/websupport.js (deflated 73%)\n",
            "  adding: html/_static/fonts/ (stored 0%)\n",
            "  adding: html/_static/fonts/RobotoSlab/ (stored 0%)\n",
            "  adding: html/_static/fonts/RobotoSlab/roboto-slab-v7-bold.ttf (deflated 45%)\n",
            "  adding: html/_static/fonts/RobotoSlab/roboto-slab-v7-bold.eot (deflated 0%)\n",
            "  adding: html/_static/fonts/RobotoSlab/roboto-slab-v7-bold.woff (deflated 0%)\n",
            "  adding: html/_static/fonts/RobotoSlab/roboto-slab-v7-regular.woff2 (deflated 0%)\n",
            "  adding: html/_static/fonts/RobotoSlab/roboto-slab-v7-regular.woff (deflated 0%)\n",
            "  adding: html/_static/fonts/RobotoSlab/roboto-slab-v7-regular.eot (deflated 0%)\n",
            "  adding: html/_static/fonts/RobotoSlab/roboto-slab-v7-bold.woff2 (deflated 0%)\n",
            "  adding: html/_static/fonts/RobotoSlab/roboto-slab-v7-regular.ttf (deflated 46%)\n",
            "  adding: html/_static/fonts/Lato-Bold.ttf (deflated 49%)\n",
            "  adding: html/_static/fonts/Lato/ (stored 0%)\n",
            "  adding: html/_static/fonts/Lato/lato-bold.ttf (deflated 47%)\n",
            "  adding: html/_static/fonts/Lato/lato-regular.ttf (deflated 48%)\n",
            "  adding: html/_static/fonts/Lato/lato-bold.eot (deflated 4%)\n",
            "  adding: html/_static/fonts/Lato/lato-italic.eot (deflated 4%)\n",
            "  adding: html/_static/fonts/Lato/lato-bolditalic.woff2 (deflated 2%)\n",
            "  adding: html/_static/fonts/Lato/lato-italic.woff2 (deflated 2%)\n",
            "  adding: html/_static/fonts/Lato/lato-regular.woff2 (deflated 2%)\n",
            "  adding: html/_static/fonts/Lato/lato-italic.ttf (deflated 48%)\n",
            "  adding: html/_static/fonts/Lato/lato-regular.eot (deflated 4%)\n",
            "  adding: html/_static/fonts/Lato/lato-italic.woff (deflated 9%)\n",
            "  adding: html/_static/fonts/Lato/lato-bold.woff2 (deflated 2%)\n",
            "  adding: html/_static/fonts/Lato/lato-bold.woff (deflated 10%)\n",
            "  adding: html/_static/fonts/Lato/lato-regular.woff (deflated 10%)\n",
            "  adding: html/_static/fonts/Lato/lato-bolditalic.ttf (deflated 47%)\n",
            "  adding: html/_static/fonts/Lato/lato-bolditalic.eot (deflated 4%)\n",
            "  adding: html/_static/fonts/Lato/lato-bolditalic.woff (deflated 9%)\n",
            "  adding: html/_static/fonts/Inconsolata-Bold.ttf (deflated 50%)\n",
            "  adding: html/_static/fonts/Inconsolata-Regular.ttf (deflated 50%)\n",
            "  adding: html/_static/fonts/Inconsolata.ttf (deflated 38%)\n",
            "  adding: html/_static/fonts/RobotoSlab-Regular.ttf (deflated 46%)\n",
            "  adding: html/_static/fonts/fontawesome-webfont.ttf (deflated 41%)\n",
            "  adding: html/_static/fonts/RobotoSlab-Bold.ttf (deflated 45%)\n",
            "  adding: html/_static/fonts/fontawesome-webfont.eot (deflated 41%)\n",
            "  adding: html/_static/fonts/fontawesome-webfont.woff (deflated 0%)\n",
            "  adding: html/_static/fonts/fontawesome-webfont.svg (deflated 69%)\n",
            "  adding: html/_static/fonts/Lato-Regular.ttf (deflated 48%)\n",
            "  adding: html/_static/fonts/fontawesome-webfont.woff2 (deflated 0%)\n",
            "  adding: html/_static/ajax-loader.gif (deflated 18%)\n",
            "  adding: html/_static/pygments.css (deflated 79%)\n",
            "  adding: html/_static/down-pressed.png (stored 0%)\n",
            "  adding: html/_static/doctools.js (deflated 64%)\n",
            "  adding: html/_static/documentation_options.js (deflated 28%)\n",
            "  adding: html/_static/up.png (stored 0%)\n",
            "  adding: html/_static/comment-close.png (stored 0%)\n",
            "  adding: html/_static/underscore.js (deflated 66%)\n",
            "  adding: html/_static/comment-bright.png (stored 0%)\n",
            "  adding: html/_static/searchtools.js (deflated 68%)\n",
            "  adding: html/py-modindex.html (deflated 74%)\n",
            "  adding: html/search.html (deflated 70%)\n",
            "  adding: html/genindex.html (deflated 86%)\n",
            "  adding: html/.buildinfo (deflated 24%)\n",
            "  adding: html/mods/ (stored 0%)\n",
            "  adding: html/mods/kmeans.html (deflated 76%)\n",
            "  adding: html/mods/pre_post_processing.html (deflated 82%)\n",
            "  adding: html/mods/tools.html (deflated 74%)\n",
            "  adding: html/mods/merging.html (deflated 77%)\n",
            "  adding: html/mods/Licence.html (deflated 65%)\n",
            "  adding: html/mods/requirements.html (deflated 69%)\n",
            "  adding: html/_images/ (stored 0%)\n",
            "  adding: html/_images/output_42_26.png (deflated 0%)\n",
            "  adding: html/_images/output_42_10.png (deflated 0%)\n",
            "  adding: html/_images/output_42_8.png (deflated 0%)\n",
            "  adding: html/_images/output_42_14.png (deflated 0%)\n",
            "  adding: html/_images/output_42_2.png (deflated 0%)\n",
            "  adding: html/_images/output_29_0.png (deflated 1%)\n",
            "  adding: html/_images/output_42_18.png (deflated 0%)\n",
            "  adding: html/_images/output_19_1.png (deflated 0%)\n",
            "  adding: html/_images/output_42_22.png (deflated 0%)\n",
            "  adding: html/_images/output_46_2.png (deflated 13%)\n",
            "  adding: html/_images/output_37_1.png (deflated 0%)\n",
            "  adding: html/_images/output_42_6.png (deflated 0%)\n",
            "  adding: html/_images/output_42_16.png (deflated 0%)\n",
            "  adding: html/_images/output_32_0.png (deflated 1%)\n",
            "  adding: html/_images/output_42_4.png (deflated 0%)\n",
            "  adding: html/_images/output_25_1.png (deflated 5%)\n",
            "  adding: html/_images/output_44_0.png (deflated 1%)\n",
            "  adding: html/_images/output_13_0.png (deflated 0%)\n",
            "  adding: html/_images/output_42_20.png (deflated 0%)\n",
            "  adding: html/_images/output_34_0.png (deflated 0%)\n",
            "  adding: html/_images/output_42_12.png (deflated 0%)\n",
            "  adding: html/_images/output_47_2.png (deflated 21%)\n",
            "  adding: html/_images/output_47_1.png (deflated 24%)\n",
            "  adding: html/_images/output_42_0.png (deflated 0%)\n",
            "  adding: html/_images/output_46_1.png (deflated 9%)\n",
            "  adding: html/_images/output_17_1.png (deflated 0%)\n",
            "  adding: html/_images/output_47_3.png (deflated 23%)\n",
            "  adding: html/_images/output_42_24.png (deflated 0%)\n",
            "  adding: html/man/ (stored 0%)\n",
            "  adding: html/man/User_Manual.html (deflated 82%)\n",
            "  adding: html/index.html (deflated 78%)\n",
            "/content/TSA_repo/sphinx\n"
          ],
          "name": "stdout"
        }
      ]
    },
    {
      "cell_type": "markdown",
      "metadata": {
        "id": "3puajPyDYoDP",
        "colab_type": "text"
      },
      "source": [
        "## Copy html across to docs"
      ]
    },
    {
      "cell_type": "code",
      "metadata": {
        "id": "X1wnCaDKSGPc",
        "colab_type": "code",
        "colab": {}
      },
      "source": [
        "!rm -r /content/TSA_repo/docs/*"
      ],
      "execution_count": 0,
      "outputs": []
    },
    {
      "cell_type": "code",
      "metadata": {
        "id": "HOiL2r1swZKi",
        "colab_type": "code",
        "colab": {}
      },
      "source": [
        "!cp -r /content/TSA_repo/sphinx/_build/html/* /content/TSA_repo/docs/"
      ],
      "execution_count": 0,
      "outputs": []
    },
    {
      "cell_type": "code",
      "metadata": {
        "id": "h-PhxAX3wf0S",
        "colab_type": "code",
        "outputId": "3a6489af-5510-4ff0-a493-7f83e2fd2b39",
        "colab": {
          "base_uri": "https://localhost:8080/",
          "height": 1000
        }
      },
      "source": [
        "# zip and download html\n",
        "%cd /content/TSA_repo\n",
        "!zip -r docs.zip docs\n",
        "from google.colab import files\n",
        "files.download(\"docs.zip\")"
      ],
      "execution_count": 0,
      "outputs": [
        {
          "output_type": "stream",
          "text": [
            "/content/TSA_repo\n",
            "  adding: docs/ (stored 0%)\n",
            "  adding: docs/objects.inv (stored 0%)\n",
            "  adding: docs/_sources/ (stored 0%)\n",
            "  adding: docs/_sources/mods/ (stored 0%)\n",
            "  adding: docs/_sources/mods/merging.rst.txt (deflated 45%)\n",
            "  adding: docs/_sources/mods/kmeans.rst.txt (deflated 46%)\n",
            "  adding: docs/_sources/mods/tools.rst.txt (deflated 53%)\n",
            "  adding: docs/_sources/mods/requirements.rst.txt (deflated 25%)\n",
            "  adding: docs/_sources/mods/Licence.rst.txt (deflated 41%)\n",
            "  adding: docs/_sources/mods/pre_post_processing.rst.txt (deflated 58%)\n",
            "  adding: docs/_sources/index.rst.txt (deflated 53%)\n",
            "  adding: docs/_sources/man/ (stored 0%)\n",
            "  adding: docs/_sources/man/User_Manual.rst.txt (deflated 70%)\n",
            "  adding: docs/searchindex.js (deflated 61%)\n",
            "  adding: docs/_static/ (stored 0%)\n",
            "  adding: docs/_static/css/ (stored 0%)\n",
            "  adding: docs/_static/css/badge_only.css (deflated 70%)\n",
            "  adding: docs/_static/css/theme.css (deflated 83%)\n",
            "  adding: docs/_static/jquery-3.2.1.js (deflated 70%)\n",
            "  adding: docs/_static/file.png (stored 0%)\n",
            "  adding: docs/_static/minus.png (deflated 8%)\n",
            "  adding: docs/_static/plus.png (deflated 7%)\n",
            "  adding: docs/_static/placeholder (stored 0%)\n",
            "  adding: docs/_static/up-pressed.png (stored 0%)\n",
            "  adding: docs/_static/js/ (stored 0%)\n",
            "  adding: docs/_static/js/theme.js (deflated 64%)\n",
            "  adding: docs/_static/js/modernizr.min.js (deflated 59%)\n",
            "  adding: docs/_static/basic.css (deflated 76%)\n",
            "  adding: docs/_static/language_data.js (deflated 65%)\n",
            "  adding: docs/_static/down.png (stored 0%)\n",
            "  adding: docs/_static/jquery.js (deflated 65%)\n",
            "  adding: docs/_static/comment.png (stored 0%)\n",
            "  adding: docs/_static/underscore-1.3.1.js (deflated 72%)\n",
            "  adding: docs/_static/websupport.js (deflated 73%)\n",
            "  adding: docs/_static/fonts/ (stored 0%)\n",
            "  adding: docs/_static/fonts/RobotoSlab/ (stored 0%)\n",
            "  adding: docs/_static/fonts/RobotoSlab/roboto-slab-v7-bold.ttf (deflated 45%)\n",
            "  adding: docs/_static/fonts/RobotoSlab/roboto-slab-v7-bold.eot (deflated 0%)\n",
            "  adding: docs/_static/fonts/RobotoSlab/roboto-slab-v7-bold.woff (deflated 0%)\n",
            "  adding: docs/_static/fonts/RobotoSlab/roboto-slab-v7-regular.woff2 (deflated 0%)\n",
            "  adding: docs/_static/fonts/RobotoSlab/roboto-slab-v7-regular.woff (deflated 0%)\n",
            "  adding: docs/_static/fonts/RobotoSlab/roboto-slab-v7-regular.eot (deflated 0%)\n",
            "  adding: docs/_static/fonts/RobotoSlab/roboto-slab-v7-bold.woff2 (deflated 0%)\n",
            "  adding: docs/_static/fonts/RobotoSlab/roboto-slab-v7-regular.ttf (deflated 46%)\n",
            "  adding: docs/_static/fonts/Lato-Bold.ttf (deflated 49%)\n",
            "  adding: docs/_static/fonts/Lato/ (stored 0%)\n",
            "  adding: docs/_static/fonts/Lato/lato-bold.ttf (deflated 47%)\n",
            "  adding: docs/_static/fonts/Lato/lato-regular.ttf (deflated 48%)\n",
            "  adding: docs/_static/fonts/Lato/lato-bold.eot (deflated 4%)\n",
            "  adding: docs/_static/fonts/Lato/lato-italic.eot (deflated 4%)\n",
            "  adding: docs/_static/fonts/Lato/lato-bolditalic.woff2 (deflated 2%)\n",
            "  adding: docs/_static/fonts/Lato/lato-italic.woff2 (deflated 2%)\n",
            "  adding: docs/_static/fonts/Lato/lato-regular.woff2 (deflated 2%)\n",
            "  adding: docs/_static/fonts/Lato/lato-italic.ttf (deflated 48%)\n",
            "  adding: docs/_static/fonts/Lato/lato-regular.eot (deflated 4%)\n",
            "  adding: docs/_static/fonts/Lato/lato-italic.woff (deflated 9%)\n",
            "  adding: docs/_static/fonts/Lato/lato-bold.woff2 (deflated 2%)\n",
            "  adding: docs/_static/fonts/Lato/lato-bold.woff (deflated 10%)\n",
            "  adding: docs/_static/fonts/Lato/lato-regular.woff (deflated 10%)\n",
            "  adding: docs/_static/fonts/Lato/lato-bolditalic.ttf (deflated 47%)\n",
            "  adding: docs/_static/fonts/Lato/lato-bolditalic.eot (deflated 4%)\n",
            "  adding: docs/_static/fonts/Lato/lato-bolditalic.woff (deflated 9%)\n",
            "  adding: docs/_static/fonts/Inconsolata-Bold.ttf (deflated 50%)\n",
            "  adding: docs/_static/fonts/Inconsolata-Regular.ttf (deflated 50%)\n",
            "  adding: docs/_static/fonts/Inconsolata.ttf (deflated 38%)\n",
            "  adding: docs/_static/fonts/RobotoSlab-Regular.ttf (deflated 46%)\n",
            "  adding: docs/_static/fonts/fontawesome-webfont.ttf (deflated 41%)\n",
            "  adding: docs/_static/fonts/RobotoSlab-Bold.ttf (deflated 45%)\n",
            "  adding: docs/_static/fonts/fontawesome-webfont.eot (deflated 41%)\n",
            "  adding: docs/_static/fonts/fontawesome-webfont.woff (deflated 0%)\n",
            "  adding: docs/_static/fonts/fontawesome-webfont.svg (deflated 69%)\n",
            "  adding: docs/_static/fonts/Lato-Regular.ttf (deflated 48%)\n",
            "  adding: docs/_static/fonts/fontawesome-webfont.woff2 (deflated 0%)\n",
            "  adding: docs/_static/ajax-loader.gif (deflated 18%)\n",
            "  adding: docs/_static/pygments.css (deflated 79%)\n",
            "  adding: docs/_static/down-pressed.png (stored 0%)\n",
            "  adding: docs/_static/doctools.js (deflated 64%)\n",
            "  adding: docs/_static/documentation_options.js (deflated 28%)\n",
            "  adding: docs/_static/up.png (stored 0%)\n",
            "  adding: docs/_static/comment-close.png (stored 0%)\n",
            "  adding: docs/_static/underscore.js (deflated 66%)\n",
            "  adding: docs/_static/comment-bright.png (stored 0%)\n",
            "  adding: docs/_static/searchtools.js (deflated 68%)\n",
            "  adding: docs/py-modindex.html (deflated 74%)\n",
            "  adding: docs/search.html (deflated 70%)\n",
            "  adding: docs/genindex.html (deflated 86%)\n",
            "  adding: docs/mods/ (stored 0%)\n",
            "  adding: docs/mods/kmeans.html (deflated 76%)\n",
            "  adding: docs/mods/pre_post_processing.html (deflated 82%)\n",
            "  adding: docs/mods/tools.html (deflated 74%)\n",
            "  adding: docs/mods/merging.html (deflated 77%)\n",
            "  adding: docs/mods/Licence.html (deflated 65%)\n",
            "  adding: docs/mods/requirements.html (deflated 69%)\n",
            "  adding: docs/_images/ (stored 0%)\n",
            "  adding: docs/_images/output_42_26.png (deflated 0%)\n",
            "  adding: docs/_images/output_42_10.png (deflated 0%)\n",
            "  adding: docs/_images/output_42_8.png (deflated 0%)\n",
            "  adding: docs/_images/output_42_14.png (deflated 0%)\n",
            "  adding: docs/_images/output_42_2.png (deflated 0%)\n",
            "  adding: docs/_images/output_29_0.png (deflated 1%)\n",
            "  adding: docs/_images/output_42_18.png (deflated 0%)\n",
            "  adding: docs/_images/output_19_1.png (deflated 0%)\n",
            "  adding: docs/_images/output_42_22.png (deflated 0%)\n",
            "  adding: docs/_images/output_46_2.png (deflated 13%)\n",
            "  adding: docs/_images/output_37_1.png (deflated 0%)\n",
            "  adding: docs/_images/output_42_6.png (deflated 0%)\n",
            "  adding: docs/_images/output_42_16.png (deflated 0%)\n",
            "  adding: docs/_images/output_32_0.png (deflated 1%)\n",
            "  adding: docs/_images/output_42_4.png (deflated 0%)\n",
            "  adding: docs/_images/output_25_1.png (deflated 5%)\n",
            "  adding: docs/_images/output_44_0.png (deflated 1%)\n",
            "  adding: docs/_images/output_13_0.png (deflated 0%)\n",
            "  adding: docs/_images/output_42_20.png (deflated 0%)\n",
            "  adding: docs/_images/output_34_0.png (deflated 0%)\n",
            "  adding: docs/_images/output_42_12.png (deflated 0%)\n",
            "  adding: docs/_images/output_47_2.png (deflated 21%)\n",
            "  adding: docs/_images/output_47_1.png (deflated 24%)\n",
            "  adding: docs/_images/output_42_0.png (deflated 0%)\n",
            "  adding: docs/_images/output_46_1.png (deflated 9%)\n",
            "  adding: docs/_images/output_17_1.png (deflated 0%)\n",
            "  adding: docs/_images/output_47_3.png (deflated 23%)\n",
            "  adding: docs/_images/output_42_24.png (deflated 0%)\n",
            "  adding: docs/man/ (stored 0%)\n",
            "  adding: docs/man/User_Manual.html (deflated 82%)\n",
            "  adding: docs/index.html (deflated 78%)\n"
          ],
          "name": "stdout"
        }
      ]
    },
    {
      "cell_type": "code",
      "metadata": {
        "id": "UAGpHc0NwpGy",
        "colab_type": "code",
        "colab": {}
      },
      "source": [
        "rm docs.zip"
      ],
      "execution_count": 0,
      "outputs": []
    },
    {
      "cell_type": "code",
      "metadata": {
        "id": "Eeblxa8pxCUO",
        "colab_type": "code",
        "outputId": "267ba324-98d3-4894-8b8d-0d341ea63860",
        "colab": {
          "base_uri": "https://localhost:8080/",
          "height": 51
        }
      },
      "source": [
        "%cd /content/TSA_repo/sphinx\n",
        "!make clean\n",
        "!touch /content/TSA_repo/sphinx/_build/placeholder"
      ],
      "execution_count": 0,
      "outputs": [
        {
          "output_type": "stream",
          "text": [
            "/content/TSA_repo/sphinx\n",
            "Removing everything under '_build'...\n"
          ],
          "name": "stdout"
        }
      ]
    },
    {
      "cell_type": "markdown",
      "metadata": {
        "id": "SOV5nENxuBhz",
        "colab_type": "text"
      },
      "source": [
        "## nojekyll"
      ]
    },
    {
      "cell_type": "code",
      "metadata": {
        "id": "uubrJd3fuFW7",
        "colab_type": "code",
        "outputId": "0f04da01-a54d-4de1-dad5-1bd15dda669d",
        "colab": {
          "base_uri": "https://localhost:8080/",
          "height": 35
        }
      },
      "source": [
        "%cd /content/TSA_repo\n",
        "!touch docs/.nojekyll"
      ],
      "execution_count": 0,
      "outputs": [
        {
          "output_type": "stream",
          "text": [
            "/content/TSA_repo\n"
          ],
          "name": "stdout"
        }
      ]
    },
    {
      "cell_type": "markdown",
      "metadata": {
        "id": "CSTmtcx1R5bY",
        "colab_type": "text"
      },
      "source": [
        "## Misc"
      ]
    },
    {
      "cell_type": "code",
      "metadata": {
        "id": "P1U_nufIR90o",
        "colab_type": "code",
        "colab": {}
      },
      "source": [
        "!rm /content/TSA_repo/sphinx/man/*"
      ],
      "execution_count": 0,
      "outputs": []
    },
    {
      "cell_type": "code",
      "metadata": {
        "id": "VdGcRaf3gUAP",
        "colab_type": "code",
        "colab": {}
      },
      "source": [
        "!rm /content/TSA_repo/sphinx/mods/*"
      ],
      "execution_count": 0,
      "outputs": []
    }
  ]
}
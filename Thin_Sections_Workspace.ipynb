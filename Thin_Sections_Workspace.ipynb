{
  "nbformat": 4,
  "nbformat_minor": 0,
  "metadata": {
    "colab": {
      "name": "Thin Sections Workspace.ipynb",
      "version": "0.3.2",
      "provenance": [],
      "collapsed_sections": [
        "-KqZCpqtxn8Q",
        "o-6gMErYxuKg",
        "ylsOWD1nzoFN",
        "oG5K4PIcstQm"
      ],
      "toc_visible": true
    },
    "kernelspec": {
      "name": "python3",
      "display_name": "Python 3"
    },
    "accelerator": "GPU"
  },
  "cells": [
    {
      "cell_type": "markdown",
      "metadata": {
        "id": "-KqZCpqtxn8Q",
        "colab_type": "text"
      },
      "source": [
        "## Github Setup\n",
        "If not already present this clones the repo into google colab so that I may work on it with a bash environment."
      ]
    },
    {
      "cell_type": "code",
      "metadata": {
        "id": "SxAq1gDR1idL",
        "colab_type": "code",
        "colab": {}
      },
      "source": [
        "!git config --global user.name \"Richard Boyne\"\n",
        "!git config --global user.email \"boynerichard@yahoo.co.uk\""
      ],
      "execution_count": 0,
      "outputs": []
    },
    {
      "cell_type": "code",
      "metadata": {
        "id": "Q9pnfHbSqgXh",
        "colab_type": "code",
        "outputId": "70867c17-48ca-4990-e8f8-f780f131a25f",
        "colab": {
          "base_uri": "https://localhost:8080/",
          "height": 521
        }
      },
      "source": [
        "from getpass import getpass\n",
        "import os\n",
        "\n",
        "if not os.path.isdir(\".git\"):\n",
        "    user = \"Boyne272\"\n",
        "    password = getpass('github password')\n",
        "    os.environ['GITHUB_AUTH'] = user + ':' + password\n",
        "\n",
        "    # clone the repo\n",
        "    !git clone https://$GITHUB_AUTH@github.com/msc-acse/acse-9-independent-research-project-Boyne272.git repo\n",
        "\n",
        "    # move the repo up one\n",
        "    !mv repo/.git .\n",
        "    !git checkout kmeans\n",
        "    !git reset --hard\n",
        "    \n",
        "if os.path.isdir(\"sample_data\"):\n",
        "    !rm -r sample_data/\n",
        "    \n",
        "if os.path.isdir(\"repo\"):    \n",
        "    !rm -r repo\n",
        "    \n",
        "!ls -la"
      ],
      "execution_count": 0,
      "outputs": [
        {
          "output_type": "stream",
          "text": [
            "github password··········\n",
            "Cloning into 'repo'...\n",
            "remote: Enumerating objects: 54, done.\u001b[K\n",
            "remote: Counting objects: 100% (54/54), done.\u001b[K\n",
            "remote: Compressing objects: 100% (39/39), done.\u001b[K\n",
            "remote: Total 54 (delta 22), reused 31 (delta 10), pack-reused 0\u001b[K\n",
            "Unpacking objects: 100% (54/54), done.\n",
            "D\tPeliminary Report Richard Boyne.pdf\n",
            "D\tREADME.md\n",
            "D\timages/TX1_polarised_cropped.tif\n",
            "D\timages/TX1_white_cropped.tif\n",
            "Branch 'kmeans' set up to track remote branch 'kmeans' from 'origin'.\n",
            "Switched to a new branch 'kmeans'\n",
            "HEAD is now at 3c936d5 addtion of progress bar to tools\n",
            "total 8444\n",
            "drwxr-xr-x 1 root root    4096 Jul 11 07:18  .\n",
            "drwxr-xr-x 1 root root    4096 Jul 11 07:11  ..\n",
            "drwxr-xr-x 1 root root    4096 Jul  3 16:14  .config\n",
            "drwxr-xr-x 8 root root    4096 Jul 11 07:18  .git\n",
            "-rw-r--r-- 1 root root      45 Jul 11 07:18  .gitignore\n",
            "drwxr-xr-x 2 root root    4096 Jul 11 07:18  images\n",
            "-rw-r--r-- 1 root root    3336 Jul 11 07:18  kmeans_basic.py\n",
            "-rw-r--r-- 1 root root    4876 Jul 11 07:18  kmeans_img.py\n",
            "-rw-r--r-- 1 root root    8496 Jul 11 07:18  kmeans_local_failed.py\n",
            "-rw-r--r-- 1 root root 8570994 Jul 11 07:18 'Peliminary Report Richard Boyne.pdf'\n",
            "-rw-r--r-- 1 root root     226 Jul 11 07:18  README.md\n",
            "-rw-r--r-- 1 root root    1114 Jul 11 07:18  test_kmeans_basic.py\n",
            "-rw-r--r-- 1 root root    1508 Jul 11 07:18  test_kmeans_img.py\n",
            "-rw-r--r-- 1 root root    2036 Jul 11 07:18  test_kmeans_local_failed.py\n",
            "-rw-r--r-- 1 root root    3279 Jul 11 07:18  tools.py\n"
          ],
          "name": "stdout"
        }
      ]
    },
    {
      "cell_type": "markdown",
      "metadata": {
        "id": "o-6gMErYxuKg",
        "colab_type": "text"
      },
      "source": [
        "## Github Space\n",
        "Use the cells here to run github commands"
      ]
    },
    {
      "cell_type": "code",
      "metadata": {
        "id": "fRI8xM0DqcjO",
        "colab_type": "code",
        "outputId": "f224d89b-5a28-48b4-818e-9c03f4417769",
        "colab": {
          "base_uri": "https://localhost:8080/",
          "height": 118
        }
      },
      "source": [
        "!git show --summary"
      ],
      "execution_count": 0,
      "outputs": [
        {
          "output_type": "stream",
          "text": [
            "\u001b[33mcommit 3c936d526cd4ab895c530a0219445542c7627c06\u001b[m\u001b[33m (\u001b[m\u001b[1;36mHEAD -> \u001b[m\u001b[1;32mkmeans\u001b[m\u001b[33m, \u001b[m\u001b[1;31morigin/kmeans\u001b[m\u001b[33m)\u001b[m\n",
            "Author: Richard Boyne <boynerichard@yahoo.co.uk>\n",
            "Date:   Wed Jul 10 08:05:33 2019 +0000\n",
            "\n",
            "    addtion of progress bar to tools\n",
            "\n"
          ],
          "name": "stdout"
        }
      ]
    },
    {
      "cell_type": "code",
      "metadata": {
        "id": "SiaHXZa26e0g",
        "colab_type": "code",
        "colab": {}
      },
      "source": [
        "!mv tmp.txt kmeans_local.py"
      ],
      "execution_count": 0,
      "outputs": []
    },
    {
      "cell_type": "code",
      "metadata": {
        "id": "NhlWe-IG58zF",
        "colab_type": "code",
        "colab": {}
      },
      "source": [
        "!mv Kmeans_Examples.ipynb kmeans/kmeans_examples.ipynb"
      ],
      "execution_count": 0,
      "outputs": []
    },
    {
      "cell_type": "code",
      "metadata": {
        "id": "XOKKMFtu0JCo",
        "colab_type": "code",
        "outputId": "2875e2d4-a665-4df4-abb8-a2b910424634",
        "colab": {
          "base_uri": "https://localhost:8080/",
          "height": 153
        }
      },
      "source": [
        "!git status"
      ],
      "execution_count": 170,
      "outputs": [
        {
          "output_type": "stream",
          "text": [
            "On branch kmeans\n",
            "Your branch is up to date with 'origin/kmeans'.\n",
            "\n",
            "Changes to be committed:\n",
            "  (use \"git reset HEAD <file>...\" to unstage)\n",
            "\n",
            "\t\u001b[32mmodified:   kmeans_local.py\u001b[m\n",
            "\n"
          ],
          "name": "stdout"
        }
      ]
    },
    {
      "cell_type": "code",
      "metadata": {
        "id": "yfLVMd_01wqC",
        "colab_type": "code",
        "colab": {}
      },
      "source": [
        "!git add tools.py"
      ],
      "execution_count": 0,
      "outputs": []
    },
    {
      "cell_type": "code",
      "metadata": {
        "id": "BF6UIz94R3eZ",
        "colab_type": "code",
        "outputId": "20fdb2d1-c9b9-43eb-befb-bc0214c0a071",
        "colab": {
          "base_uri": "https://localhost:8080/",
          "height": 102
        }
      },
      "source": [
        "!git commit -m \"Added distance metric base class\" -m \"\""
      ],
      "execution_count": 172,
      "outputs": [
        {
          "output_type": "stream",
          "text": [
            "On branch kmeans\n",
            "Your branch is ahead of 'origin/kmeans' by 1 commit.\n",
            "  (use \"git push\" to publish your local commits)\n",
            "\n",
            "nothing to commit, working tree clean\n"
          ],
          "name": "stdout"
        }
      ]
    },
    {
      "cell_type": "code",
      "metadata": {
        "id": "tGxzEB5Vgzmy",
        "colab_type": "code",
        "outputId": "672d22cd-0468-4cfd-c977-57576bf7307d",
        "colab": {
          "base_uri": "https://localhost:8080/",
          "height": 153
        }
      },
      "source": [
        "!git push origin kmeans"
      ],
      "execution_count": 173,
      "outputs": [
        {
          "output_type": "stream",
          "text": [
            "Counting objects: 3, done.\n",
            "Delta compression using up to 2 threads.\n",
            "Compressing objects:  33% (1/3)   \rCompressing objects:  66% (2/3)   \rCompressing objects: 100% (3/3)   \rCompressing objects: 100% (3/3), done.\n",
            "Writing objects:  33% (1/3)   \rWriting objects:  66% (2/3)   \rWriting objects: 100% (3/3)   \rWriting objects: 100% (3/3), 1.75 KiB | 1.75 MiB/s, done.\n",
            "Total 3 (delta 2), reused 0 (delta 0)\n",
            "remote: Resolving deltas: 100% (2/2), completed with 2 local objects.\u001b[K\n",
            "To https://github.com/msc-acse/acse-9-independent-research-project-Boyne272.git\n",
            "   669718d..a27c8cb  kmeans -> kmeans\n"
          ],
          "name": "stdout"
        }
      ]
    },
    {
      "cell_type": "markdown",
      "metadata": {
        "id": "ylsOWD1nzoFN",
        "colab_type": "text"
      },
      "source": [
        "## Imports"
      ]
    },
    {
      "cell_type": "code",
      "metadata": {
        "id": "ms8zembfzd0f",
        "colab_type": "code",
        "colab": {
          "base_uri": "https://localhost:8080/",
          "height": 51
        },
        "outputId": "378988ec-d4d6-4806-b488-31ddb42f29f5"
      },
      "source": [
        "# Ipython magic functions\n",
        "%load_ext autoreload\n",
        "%autoreload 2\n",
        "%matplotlib inline\n",
        "\n",
        "# add paths to look for local modules\n",
        "import sys\n",
        "sys.path.insert(0, \"content/kmeans\")\n",
        "\n",
        "# imports\n",
        "import torch\n",
        "import matplotlib.pyplot as plt\n",
        "import numpy as np\n",
        "import scipy.signal as sig\n",
        "from tools import set_seed, get_img, progress_bar"
      ],
      "execution_count": 178,
      "outputs": [
        {
          "output_type": "stream",
          "text": [
            "The autoreload extension is already loaded. To reload it, use:\n",
            "  %reload_ext autoreload\n"
          ],
          "name": "stdout"
        }
      ]
    },
    {
      "cell_type": "markdown",
      "metadata": {
        "id": "oG5K4PIcstQm",
        "colab_type": "text"
      },
      "source": [
        "## Manual Testing\n",
        "Pytest test code to run all locatable tests. Note that Each test is inself a unittest so can bedone by running each test file indevidually aswell."
      ]
    },
    {
      "cell_type": "code",
      "metadata": {
        "id": "r0U9CRiksvqB",
        "colab_type": "code",
        "outputId": "32433216-b63e-483a-a4ae-50fb625e29e9",
        "colab": {
          "base_uri": "https://localhost:8080/",
          "height": 202
        }
      },
      "source": [
        "!py.test"
      ],
      "execution_count": 0,
      "outputs": [
        {
          "output_type": "stream",
          "text": [
            "\u001b[1m============================= test session starts ==============================\u001b[0m\n",
            "platform linux2 -- Python 2.7.15+, pytest-3.6.4, py-1.8.0, pluggy-0.7.1\n",
            "rootdir: /content, inifile:\n",
            "collected 9 items                                                              \u001b[0m\n",
            "\n",
            "test_kmeans_basic.py .\u001b[36m                                                   [ 11%]\u001b[0m\n",
            "test_kmeans_img.py ..\u001b[36m                                                    [ 33%]\u001b[0m\n",
            "test_kmeans_local.py ...\u001b[36m                                                 [ 66%]\u001b[0m\n",
            "test_kmeans_local_failed.py ...\u001b[36m                                          [100%]\u001b[0m\n",
            "\n",
            "\u001b[32m\u001b[1m========================== 9 passed in 18.42 seconds ===========================\u001b[0m\n"
          ],
          "name": "stdout"
        }
      ]
    },
    {
      "cell_type": "markdown",
      "metadata": {
        "id": "scwNn_GNxw_e",
        "colab_type": "text"
      },
      "source": [
        "## Development Space"
      ]
    },
    {
      "cell_type": "code",
      "metadata": {
        "id": "R_qhl4pi5ym9",
        "colab_type": "code",
        "colab": {}
      },
      "source": [
        ""
      ],
      "execution_count": 0,
      "outputs": []
    },
    {
      "cell_type": "code",
      "metadata": {
        "id": "vLoy805c5yqz",
        "colab_type": "code",
        "colab": {}
      },
      "source": [
        ""
      ],
      "execution_count": 0,
      "outputs": []
    },
    {
      "cell_type": "code",
      "metadata": {
        "id": "B5637BTn5ytT",
        "colab_type": "code",
        "colab": {}
      },
      "source": [
        ""
      ],
      "execution_count": 0,
      "outputs": []
    },
    {
      "cell_type": "code",
      "metadata": {
        "id": "QNBmBK1H5y90",
        "colab_type": "code",
        "colab": {}
      },
      "source": [
        ""
      ],
      "execution_count": 0,
      "outputs": []
    },
    {
      "cell_type": "code",
      "metadata": {
        "id": "tb55adEX5zAj",
        "colab_type": "code",
        "colab": {}
      },
      "source": [
        ""
      ],
      "execution_count": 0,
      "outputs": []
    },
    {
      "cell_type": "markdown",
      "metadata": {
        "id": "87JklnJ0vJIy",
        "colab_type": "text"
      },
      "source": [
        "## Testing Space"
      ]
    },
    {
      "cell_type": "code",
      "metadata": {
        "id": "-aUQNDiw-rlK",
        "colab_type": "code",
        "colab": {}
      },
      "source": [
        ""
      ],
      "execution_count": 0,
      "outputs": []
    },
    {
      "cell_type": "code",
      "metadata": {
        "id": "9LqFPaOX-roo",
        "colab_type": "code",
        "colab": {}
      },
      "source": [
        ""
      ],
      "execution_count": 0,
      "outputs": []
    },
    {
      "cell_type": "code",
      "metadata": {
        "id": "DyCdEEbI-sbP",
        "colab_type": "code",
        "colab": {}
      },
      "source": [
        ""
      ],
      "execution_count": 0,
      "outputs": []
    },
    {
      "cell_type": "markdown",
      "metadata": {
        "id": "DVMrDFkq-szz",
        "colab_type": "text"
      },
      "source": [
        "## Misc Space"
      ]
    },
    {
      "cell_type": "code",
      "metadata": {
        "id": "C3rDLPKe-rr_",
        "colab_type": "code",
        "colab": {}
      },
      "source": [
        ""
      ],
      "execution_count": 0,
      "outputs": []
    },
    {
      "cell_type": "code",
      "metadata": {
        "id": "R-rzZ3_d-rvG",
        "colab_type": "code",
        "colab": {}
      },
      "source": [
        ""
      ],
      "execution_count": 0,
      "outputs": []
    },
    {
      "cell_type": "code",
      "metadata": {
        "id": "b3WXa0PY_mwd",
        "colab_type": "code",
        "colab": {}
      },
      "source": [
        ""
      ],
      "execution_count": 0,
      "outputs": []
    }
  ]
}